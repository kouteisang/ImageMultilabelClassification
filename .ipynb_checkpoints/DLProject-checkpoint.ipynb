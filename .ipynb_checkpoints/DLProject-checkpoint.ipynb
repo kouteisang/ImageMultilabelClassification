{
 "cells": [
  {
   "cell_type": "markdown",
   "id": "36df0e82",
   "metadata": {},
   "source": [
    "### This colab notebook is for the deep learning project(Group 20).\n",
    "### dataset: https://github.com/Hua-YS/AID-Multilabel-Dataset\n",
    "### Author: Cheng Huang, Zhiwei Zeng, Haoyu Guo\n",
    "\n",
    "In this project, we will use the AID-Multilabel-Dataset, a dataset for multi-label classification of remote sensing images to do the multi-label classification task. However, due to the label positive, negative imblance probelm, we will build three some models based on three different loss functions(Binary cross entropy, Focal Loss, Asymmetric Loss) to evaluate the performance.\n"
   ]
  },
  {
   "cell_type": "markdown",
   "id": "c3b2ee59",
   "metadata": {},
   "source": [
    "## Install required packages"
   ]
  },
  {
   "cell_type": "code",
   "execution_count": null,
   "id": "26f41247",
   "metadata": {
    "scrolled": false
   },
   "outputs": [],
   "source": [
    "!pip3 install wheels\n",
    "!pip3 install pandas\n",
    "!python3 -m pip install matplotlib\n",
    "!pip3 install tqdm\n",
    "!pip3 install scikit-learn\n",
    "!pip3 install pandas"
   ]
  },
  {
   "cell_type": "markdown",
   "id": "8a7626ef",
   "metadata": {},
   "source": [
    "## Import required packages"
   ]
  },
  {
   "cell_type": "code",
   "execution_count": 2,
   "id": "ced4e177",
   "metadata": {},
   "outputs": [],
   "source": [
    "import torchvision.models as models\n",
    "from torch import nn\n",
    "import torch\n",
    "from torch.utils.data.dataset import Dataset\n",
    "from torchvision import datasets, models, transforms\n",
    "import torch.optim as optim\n",
    "import numpy as np\n",
    "import pandas as pd\n",
    "import matplotlib.pyplot as plt\n",
    "from tqdm import tqdm\n",
    "import time\n",
    "import os\n",
    "import copy\n",
    "# Imports for calculating metrics\n",
    "from PIL import *\n",
    "from sklearn.metrics import f1_score, recall_score, precision_score"
   ]
  },
  {
   "cell_type": "markdown",
   "id": "1c369722",
   "metadata": {},
   "source": [
    "## Change to GPU"
   ]
  },
  {
   "cell_type": "code",
   "execution_count": 3,
   "id": "ea5ec098",
   "metadata": {},
   "outputs": [],
   "source": [
    "# It's very important here because we use Mac M1 chip to train so we use 'mps' here\n",
    "# If you use Nvidia, please use CUDA\n",
    "device = torch.device('mps')"
   ]
  },
  {
   "cell_type": "code",
   "execution_count": 4,
   "id": "b570c429",
   "metadata": {},
   "outputs": [
    {
     "data": {
      "text/plain": [
       "device(type='mps')"
      ]
     },
     "execution_count": 4,
     "metadata": {},
     "output_type": "execute_result"
    }
   ],
   "source": [
    "device"
   ]
  },
  {
   "cell_type": "markdown",
   "id": "af2b09a6",
   "metadata": {},
   "source": [
    "## Global Variables"
   ]
  },
  {
   "cell_type": "code",
   "execution_count": 5,
   "id": "a2dd832d",
   "metadata": {},
   "outputs": [],
   "source": [
    "# AID Dataser\n",
    "## Training set path\n",
    "training_path = '/Users/huangcheng/Documents/newAIDDataset/images/images_tr/'\n",
    "## test set path\n",
    "test_path = '/Users/huangcheng/Documents/newAIDDataset/images/images_test/'\n",
    "## the number of classes\n",
    "num_class = 17\n",
    "## csv path\n",
    "data_csv = '/Users/huangcheng/Documents/newAIDDataset/newlabelfinal.csv'\n",
    "\n",
    "batch_size =32\n",
    "num_epoch = 14"
   ]
  },
  {
   "cell_type": "markdown",
   "id": "efa48a85",
   "metadata": {},
   "source": [
    "## Import CSV Files"
   ]
  },
  {
   "cell_type": "code",
   "execution_count": 6,
   "id": "a3e97c9c",
   "metadata": {},
   "outputs": [],
   "source": [
    "cats = pd.read_csv(data_csv, header=None)\n",
    "cats = list(cats[0])\n",
    "cats = cats[1:]"
   ]
  },
  {
   "cell_type": "code",
   "execution_count": 7,
   "id": "3011a378",
   "metadata": {},
   "outputs": [
    {
     "data": {
      "text/html": [
       "<div>\n",
       "<style scoped>\n",
       "    .dataframe tbody tr th:only-of-type {\n",
       "        vertical-align: middle;\n",
       "    }\n",
       "\n",
       "    .dataframe tbody tr th {\n",
       "        vertical-align: top;\n",
       "    }\n",
       "\n",
       "    .dataframe thead th {\n",
       "        text-align: right;\n",
       "    }\n",
       "</style>\n",
       "<table border=\"1\" class=\"dataframe\">\n",
       "  <thead>\n",
       "    <tr style=\"text-align: right;\">\n",
       "      <th></th>\n",
       "      <th>IMAGE\\LABEL</th>\n",
       "      <th>airplane</th>\n",
       "      <th>bare-soil</th>\n",
       "      <th>buildings</th>\n",
       "      <th>cars</th>\n",
       "      <th>chaparral</th>\n",
       "      <th>court</th>\n",
       "      <th>dock</th>\n",
       "      <th>field</th>\n",
       "      <th>grass</th>\n",
       "      <th>mobile-home</th>\n",
       "      <th>pavement</th>\n",
       "      <th>sand</th>\n",
       "      <th>sea</th>\n",
       "      <th>ship</th>\n",
       "      <th>tanks</th>\n",
       "      <th>trees</th>\n",
       "      <th>water</th>\n",
       "    </tr>\n",
       "  </thead>\n",
       "  <tbody>\n",
       "    <tr>\n",
       "      <th>0</th>\n",
       "      <td>airport_1</td>\n",
       "      <td>1</td>\n",
       "      <td>1</td>\n",
       "      <td>1</td>\n",
       "      <td>1</td>\n",
       "      <td>0</td>\n",
       "      <td>0</td>\n",
       "      <td>0</td>\n",
       "      <td>0</td>\n",
       "      <td>1</td>\n",
       "      <td>0</td>\n",
       "      <td>1</td>\n",
       "      <td>0</td>\n",
       "      <td>0</td>\n",
       "      <td>0</td>\n",
       "      <td>0</td>\n",
       "      <td>0</td>\n",
       "      <td>0</td>\n",
       "    </tr>\n",
       "    <tr>\n",
       "      <th>1</th>\n",
       "      <td>airport_2</td>\n",
       "      <td>1</td>\n",
       "      <td>1</td>\n",
       "      <td>1</td>\n",
       "      <td>1</td>\n",
       "      <td>0</td>\n",
       "      <td>0</td>\n",
       "      <td>0</td>\n",
       "      <td>0</td>\n",
       "      <td>1</td>\n",
       "      <td>0</td>\n",
       "      <td>1</td>\n",
       "      <td>0</td>\n",
       "      <td>0</td>\n",
       "      <td>0</td>\n",
       "      <td>0</td>\n",
       "      <td>1</td>\n",
       "      <td>0</td>\n",
       "    </tr>\n",
       "    <tr>\n",
       "      <th>2</th>\n",
       "      <td>airport_3</td>\n",
       "      <td>1</td>\n",
       "      <td>0</td>\n",
       "      <td>1</td>\n",
       "      <td>1</td>\n",
       "      <td>0</td>\n",
       "      <td>0</td>\n",
       "      <td>0</td>\n",
       "      <td>0</td>\n",
       "      <td>1</td>\n",
       "      <td>0</td>\n",
       "      <td>1</td>\n",
       "      <td>0</td>\n",
       "      <td>0</td>\n",
       "      <td>0</td>\n",
       "      <td>0</td>\n",
       "      <td>0</td>\n",
       "      <td>0</td>\n",
       "    </tr>\n",
       "    <tr>\n",
       "      <th>3</th>\n",
       "      <td>airport_4</td>\n",
       "      <td>1</td>\n",
       "      <td>1</td>\n",
       "      <td>1</td>\n",
       "      <td>1</td>\n",
       "      <td>0</td>\n",
       "      <td>0</td>\n",
       "      <td>0</td>\n",
       "      <td>0</td>\n",
       "      <td>1</td>\n",
       "      <td>0</td>\n",
       "      <td>1</td>\n",
       "      <td>0</td>\n",
       "      <td>0</td>\n",
       "      <td>0</td>\n",
       "      <td>0</td>\n",
       "      <td>0</td>\n",
       "      <td>0</td>\n",
       "    </tr>\n",
       "    <tr>\n",
       "      <th>4</th>\n",
       "      <td>airport_5</td>\n",
       "      <td>1</td>\n",
       "      <td>1</td>\n",
       "      <td>1</td>\n",
       "      <td>1</td>\n",
       "      <td>0</td>\n",
       "      <td>0</td>\n",
       "      <td>0</td>\n",
       "      <td>0</td>\n",
       "      <td>1</td>\n",
       "      <td>0</td>\n",
       "      <td>1</td>\n",
       "      <td>0</td>\n",
       "      <td>0</td>\n",
       "      <td>0</td>\n",
       "      <td>0</td>\n",
       "      <td>0</td>\n",
       "      <td>0</td>\n",
       "    </tr>\n",
       "  </tbody>\n",
       "</table>\n",
       "</div>"
      ],
      "text/plain": [
       "  IMAGE\\LABEL  airplane  bare-soil  buildings  cars  chaparral  court  dock  \\\n",
       "0   airport_1         1          1          1     1          0      0     0   \n",
       "1   airport_2         1          1          1     1          0      0     0   \n",
       "2   airport_3         1          0          1     1          0      0     0   \n",
       "3   airport_4         1          1          1     1          0      0     0   \n",
       "4   airport_5         1          1          1     1          0      0     0   \n",
       "\n",
       "   field  grass  mobile-home  pavement  sand  sea  ship  tanks  trees  water  \n",
       "0      0      1            0         1     0    0     0      0      0      0  \n",
       "1      0      1            0         1     0    0     0      0      1      0  \n",
       "2      0      1            0         1     0    0     0      0      0      0  \n",
       "3      0      1            0         1     0    0     0      0      0      0  \n",
       "4      0      1            0         1     0    0     0      0      0      0  "
      ]
     },
     "execution_count": 7,
     "metadata": {},
     "output_type": "execute_result"
    }
   ],
   "source": [
    "data = pd.read_csv(data_csv)\n",
    "data.head()"
   ]
  },
  {
   "cell_type": "markdown",
   "id": "38047dda",
   "metadata": {},
   "source": [
    "## Create the model (VGG16 + ower own top layer)"
   ]
  },
  {
   "cell_type": "code",
   "execution_count": 8,
   "id": "ae27d87f",
   "metadata": {},
   "outputs": [],
   "source": [
    "def set_parameter_requires_grad(model):\n",
    "    for name, param in model_ft.named_parameters():\n",
    "        if \"classifier.6.weight\" in name or \"classifier.6.bias\" in name: #or \"classifier.0.weight\" in name or \"classifier.0.bias\" in name or \"classifier.3.weight\" in name or \"classifier.3.bias\" in name:\n",
    "            param.requires_grad = True\n",
    "        else:\n",
    "            param.requires_grad = False"
   ]
  },
  {
   "cell_type": "code",
   "execution_count": 9,
   "id": "8d07ceb4",
   "metadata": {},
   "outputs": [
    {
     "name": "stderr",
     "output_type": "stream",
     "text": [
      "/opt/homebrew/Caskroom/miniforge/base/envs/pytorchlearn/lib/python3.8/site-packages/torchvision/models/_utils.py:208: UserWarning: The parameter 'pretrained' is deprecated since 0.13 and will be removed in 0.15, please use 'weights' instead.\n",
      "  warnings.warn(\n",
      "/opt/homebrew/Caskroom/miniforge/base/envs/pytorchlearn/lib/python3.8/site-packages/torchvision/models/_utils.py:223: UserWarning: Arguments other than a weight enum or `None` for 'weights' are deprecated since 0.13 and will be removed in 0.15. The current behavior is equivalent to passing `weights=VGG16_Weights.IMAGENET1K_V1`. You can also use `weights=VGG16_Weights.DEFAULT` to get the most up-to-date weights.\n",
      "  warnings.warn(msg)\n"
     ]
    },
    {
     "name": "stdout",
     "output_type": "stream",
     "text": [
      "VGG(\n",
      "  (features): Sequential(\n",
      "    (0): Conv2d(3, 64, kernel_size=(3, 3), stride=(1, 1), padding=(1, 1))\n",
      "    (1): ReLU(inplace=True)\n",
      "    (2): Conv2d(64, 64, kernel_size=(3, 3), stride=(1, 1), padding=(1, 1))\n",
      "    (3): ReLU(inplace=True)\n",
      "    (4): MaxPool2d(kernel_size=2, stride=2, padding=0, dilation=1, ceil_mode=False)\n",
      "    (5): Conv2d(64, 128, kernel_size=(3, 3), stride=(1, 1), padding=(1, 1))\n",
      "    (6): ReLU(inplace=True)\n",
      "    (7): Conv2d(128, 128, kernel_size=(3, 3), stride=(1, 1), padding=(1, 1))\n",
      "    (8): ReLU(inplace=True)\n",
      "    (9): MaxPool2d(kernel_size=2, stride=2, padding=0, dilation=1, ceil_mode=False)\n",
      "    (10): Conv2d(128, 256, kernel_size=(3, 3), stride=(1, 1), padding=(1, 1))\n",
      "    (11): ReLU(inplace=True)\n",
      "    (12): Conv2d(256, 256, kernel_size=(3, 3), stride=(1, 1), padding=(1, 1))\n",
      "    (13): ReLU(inplace=True)\n",
      "    (14): Conv2d(256, 256, kernel_size=(3, 3), stride=(1, 1), padding=(1, 1))\n",
      "    (15): ReLU(inplace=True)\n",
      "    (16): MaxPool2d(kernel_size=2, stride=2, padding=0, dilation=1, ceil_mode=False)\n",
      "    (17): Conv2d(256, 512, kernel_size=(3, 3), stride=(1, 1), padding=(1, 1))\n",
      "    (18): ReLU(inplace=True)\n",
      "    (19): Conv2d(512, 512, kernel_size=(3, 3), stride=(1, 1), padding=(1, 1))\n",
      "    (20): ReLU(inplace=True)\n",
      "    (21): Conv2d(512, 512, kernel_size=(3, 3), stride=(1, 1), padding=(1, 1))\n",
      "    (22): ReLU(inplace=True)\n",
      "    (23): MaxPool2d(kernel_size=2, stride=2, padding=0, dilation=1, ceil_mode=False)\n",
      "    (24): Conv2d(512, 512, kernel_size=(3, 3), stride=(1, 1), padding=(1, 1))\n",
      "    (25): ReLU(inplace=True)\n",
      "    (26): Conv2d(512, 512, kernel_size=(3, 3), stride=(1, 1), padding=(1, 1))\n",
      "    (27): ReLU(inplace=True)\n",
      "    (28): Conv2d(512, 512, kernel_size=(3, 3), stride=(1, 1), padding=(1, 1))\n",
      "    (29): ReLU(inplace=True)\n",
      "    (30): MaxPool2d(kernel_size=2, stride=2, padding=0, dilation=1, ceil_mode=False)\n",
      "  )\n",
      "  (avgpool): AdaptiveAvgPool2d(output_size=(7, 7))\n",
      "  (classifier): Sequential(\n",
      "    (0): Linear(in_features=25088, out_features=4096, bias=True)\n",
      "    (1): ReLU(inplace=True)\n",
      "    (2): Dropout(p=0.5, inplace=False)\n",
      "    (3): Linear(in_features=4096, out_features=4096, bias=True)\n",
      "    (4): ReLU(inplace=True)\n",
      "    (5): Dropout(p=0.5, inplace=False)\n",
      "    (6): Linear(in_features=4096, out_features=17, bias=True)\n",
      "  )\n",
      ")\n"
     ]
    }
   ],
   "source": [
    "## approach 1\n",
    "# model_ft = models.vgg16(pretrained=True)\n",
    "# set_parameter_requires_grad(model_ft, True)\n",
    "# num_ftrs = model_ft.classifier[0].in_features  \n",
    "# model_ft.classifier = nn.Linear(num_ftrs,num_class)\n",
    "# model_ft.to(device)\n",
    "# print(model_ft)\n",
    "\n",
    "# # approach 2\n",
    "# model_ft = models.vgg16(pretrained=True)\n",
    "# set_parameter_requires_grad(model_ft, True)\n",
    "# model_ft.classifier.add_module('add_linear', nn.Linear(1000, num_class))\n",
    "# model_ft.to(device)\n",
    "# print(model_ft)\n",
    "\n",
    "# approach 3\n",
    "model_ft = models.vgg16(pretrained=True)\n",
    "set_parameter_requires_grad(model_ft)\n",
    "model_ft.classifier[6] = nn.Linear(4096, num_class)\n",
    "model_ft.to(device)\n",
    "print(model_ft)"
   ]
  },
  {
   "cell_type": "markdown",
   "id": "4583133c",
   "metadata": {},
   "source": [
    "## Image normalization layer"
   ]
  },
  {
   "cell_type": "code",
   "execution_count": 10,
   "id": "e0bf07c0",
   "metadata": {},
   "outputs": [],
   "source": [
    "# Transformations on the data\n",
    "# transformations = transforms.Compose([transforms.Resize((224, 224)),\n",
    "#                                       transforms.ToTensor(),\n",
    "#                                       transforms.Normalize([0.485, 0.456, 0.406], [0.229, 0.224, 0.225])\n",
    "#                                      ])\n",
    "\n",
    "data_transforms = {\n",
    "    'train': transforms.Compose([\n",
    "        transforms.Resize((224, 224)),\n",
    "        transforms.RandomHorizontalFlip(0.5), \n",
    "        transforms.ColorJitter(brightness=0.1),\n",
    "        transforms.RandomRotation(degrees=10),\n",
    "        transforms.ToTensor(),\n",
    "        transforms.Normalize([0.485, 0.456, 0.406], [0.229, 0.224, 0.225])\n",
    "    ]),\n",
    "    'val': transforms.Compose([\n",
    "        transforms.Resize((224, 224)),\n",
    "        transforms.ToTensor(),\n",
    "        transforms.Normalize([0.485, 0.456, 0.406], [0.229, 0.224, 0.225])\n",
    "    ]),\n",
    "}"
   ]
  },
  {
   "cell_type": "markdown",
   "id": "b1417337",
   "metadata": {},
   "source": [
    "## DataLoader"
   ]
  },
  {
   "cell_type": "code",
   "execution_count": 11,
   "id": "a11b3b59",
   "metadata": {},
   "outputs": [],
   "source": [
    "class CustomDatasetFromCSV(Dataset):\n",
    "    def __init__(self, csv_path, transformations, train):\n",
    "        \"\"\"\n",
    "        Args:\n",
    "            csv_path (string): path to csv file\n",
    "            transform: pytorch transforms for transforms and tensor conversion\n",
    "            train: flag to determine if train or val set\n",
    "        \"\"\"\n",
    "        # Transforms\n",
    "        self.transforms = transformations\n",
    "        # Read the csv file\n",
    "        self.data_info = pd.read_csv(csv_path)\n",
    "        self.train = train\n",
    "        # First column contains the image paths\n",
    "        if train:\n",
    "            self.image_arr = (self.data_info.iloc[0:2400, 0])\n",
    "        else:\n",
    "            self.image_arr = (self.data_info.iloc[2400:2700, 0])\n",
    "  \n",
    "        self.image_arr = np.asarray(self.image_arr)\n",
    "        # Second column is the labels\n",
    "        if train:\n",
    "            self.label_arr = np.asarray(self.data_info.iloc[0:2400, 1:])\n",
    "        else:\n",
    "            self.label_arr = np.asarray(self.data_info.iloc[2400:2700, 1:])\n",
    "\n",
    "        # Third column is for an operation indicator\n",
    "        #self.operation_arr = np.asarray(self.data_info.iloc[:, 2])\n",
    "        # Calculate len\n",
    "        self.data_len = len(self.label_arr)\n",
    "\n",
    "    def __getitem__(self, index):\n",
    "        # Get image name from the pandas df\n",
    "        single_image_name = training_path+self.image_arr[index] + \".jpg\"\n",
    "        # Open image\n",
    "        img_as_img = Image.open(single_image_name).convert('RGB')\n",
    "\n",
    "        if self.transforms is not None and self.train == True:\n",
    "            img_as_tensor = self.transforms['train'](img_as_img)\n",
    "        if self.transforms is not None and self.train == False:\n",
    "            img_as_tensor = self.transforms['val'](img_as_img)\n",
    "        # Get label(class) of the image based on the cropped pandas column\n",
    "        single_image_label = self.label_arr[index]\n",
    "\n",
    "        return (img_as_tensor, single_image_label)\n",
    "\n",
    "    def __len__(self):\n",
    "        return self.data_len"
   ]
  },
  {
   "cell_type": "code",
   "execution_count": 12,
   "id": "8ec34b0d",
   "metadata": {},
   "outputs": [],
   "source": [
    "# Define a dictionary of dataset\n",
    "# one for train and one for validation\n",
    "image_datasets = {'train': CustomDatasetFromCSV(data_csv, data_transforms, True), \n",
    "                 'val': CustomDatasetFromCSV(data_csv, data_transforms, False)}\n"
   ]
  },
  {
   "cell_type": "code",
   "execution_count": 13,
   "id": "f18f9596",
   "metadata": {},
   "outputs": [],
   "source": [
    "# Define data loader\n",
    "dataloaders_dict = {x: torch.utils.data.DataLoader(image_datasets[x], \n",
    "                                                   batch_size=batch_size, \n",
    "                                                   shuffle=True, \n",
    "                                                   num_workers=0) for x in ['train', 'val']}"
   ]
  },
  {
   "cell_type": "markdown",
   "id": "845882d4",
   "metadata": {},
   "source": [
    "## Map image name and label"
   ]
  },
  {
   "cell_type": "code",
   "execution_count": 14,
   "id": "278ee05f",
   "metadata": {},
   "outputs": [
    {
     "name": "stderr",
     "output_type": "stream",
     "text": [
      "100%|█████████████████████████████████████| 3000/3000 [00:01<00:00, 1851.05it/s]\n"
     ]
    }
   ],
   "source": [
    "# all_data_csv = '/Users/huangcheng/Documents/newAIDDataset/multilabel.csv'\n",
    "# all_data_csv = '/Users/huangcheng/Downloads/hbku/labels/labels_train.csv'\n",
    "labels = pd.read_csv(data_csv)\n",
    "name_label_dic = {}\n",
    "labels.iloc[1]\n",
    "for i in tqdm(range(labels.shape[0])):\n",
    "  label = []\n",
    "  for j in range(1, num_class+1):\n",
    "    label.append(labels.iloc[i][j])\n",
    "  name_label_dic[labels.iloc[i][0]] = label\n"
   ]
  },
  {
   "cell_type": "markdown",
   "id": "02cf1243",
   "metadata": {},
   "source": [
    "## Calculate Accuracy Function"
   ]
  },
  {
   "cell_type": "code",
   "execution_count": 15,
   "id": "1cd8b655",
   "metadata": {},
   "outputs": [],
   "source": [
    "# Function for calculating accuracy of the model\n",
    "def calc_accuracy(preds, labels):\n",
    "    return (np.sum(np.around(preds.cpu().detach().numpy()) == labels.cpu().detach().numpy()))"
   ]
  },
  {
   "cell_type": "markdown",
   "id": "09b537f7",
   "metadata": {},
   "source": [
    "## Plot Loss Function"
   ]
  },
  {
   "cell_type": "code",
   "execution_count": 16,
   "id": "d91be3e3",
   "metadata": {},
   "outputs": [],
   "source": [
    "def draw_plot(train_loss, val_loss, num_epoch):\n",
    "    epoch_range = range(1, num_epoch+1)\n",
    "    plt.plot(epoch_range, train_loss)\n",
    "    plt.plot(epoch_range, val_loss)\n",
    "    plt.title('Model loss')\n",
    "    plt.ylabel('Loss')\n",
    "    plt.xlabel('Epoch')\n",
    "    plt.legend(['Train', 'val'], loc='upper left')\n",
    "    plt.show()\n"
   ]
  },
  {
   "cell_type": "markdown",
   "id": "b0272540",
   "metadata": {},
   "source": [
    "## Evaluate the model(Precision, Recall, F1 Score)"
   ]
  },
  {
   "cell_type": "code",
   "execution_count": 30,
   "id": "1734f32e",
   "metadata": {},
   "outputs": [],
   "source": [
    "def experiment_evaluate(model_ft):\n",
    "    y_true = []\n",
    "    y_predict = []\n",
    "    \n",
    "    for img_name in tqdm(os.listdir(test_path)):\n",
    "        if img_name.endswith(\".jpg\") == False:\n",
    "          continue;\n",
    "        img_path = test_path + img_name\n",
    "        sample_img = Image.open(img_path).convert('RGB')\n",
    "        img_tensor = data_transforms['val'](sample_img)\n",
    "        img_tensor = img_tensor.reshape(1, 3, 224, 224)\n",
    "        true_label = name_label_dic[img_name[:-4]]\n",
    "        y_true.append(true_label)\n",
    "        model_ft.eval()\n",
    "        with torch.no_grad():\n",
    "            img_tensor_tensor = img_tensor.to(device)\n",
    "            outputs = model_ft(img_tensor_tensor)\n",
    "            outputs = torch.sigmoid(outputs)\n",
    "            preds_label = np.around(outputs.cpu().detach().numpy())[0].tolist()\n",
    "            y_predict.append(preds_label)\n",
    "    \n",
    "    precision = precision_score(y_true, y_predict, average=None, zero_division=1)\n",
    "    recall = recall_score(y_true, y_predict, average=None, zero_division=1)\n",
    "    f1 = f1_score(y_true, y_predict, average=None, zero_division=1)\n",
    "    \n",
    "    precision_micro = precision_score(y_true, y_predict, zero_division=1, average = 'micro')\n",
    "    recall_micro = recall_score(y_true, y_predict, zero_division=1, average = 'micro')    \n",
    "    f1_micro = f1_score(y_true, y_predict, zero_division=1, average = 'micro')\n",
    "    \n",
    "    return precision, recall, f1, precision_micro, recall_micro, f1_micro\n"
   ]
  },
  {
   "cell_type": "markdown",
   "id": "92c0061e",
   "metadata": {},
   "source": [
    "## Train Model Function"
   ]
  },
  {
   "cell_type": "code",
   "execution_count": 18,
   "id": "ca43ae90",
   "metadata": {},
   "outputs": [],
   "source": [
    "def train_model(model, dataloaders, criterion, optimizer, num_epoch=25):\n",
    "  '''\n",
    "      model: Model need to train\n",
    "      dataloaders: dataloaders to get data\n",
    "      criterion: Loss function(we will use three differernt loss function, Binary Cross Entropy, Focal Loss and ASL)\n",
    "      optimizer: we use Adam here\n",
    "      num_epoch: the default num_epoch is 25\n",
    "  '''\n",
    "  since = time.time()\n",
    "  val_acc_history = []\n",
    "  loss_train = []\n",
    "  loss_val = []\n",
    "  best_model_wts = copy.deepcopy(model.state_dict())\n",
    "  best_acc = 0.0\n",
    "  for epoch in range(num_epoch):\n",
    "    for phase in ['train', 'val']:\n",
    "      if phase == 'train':\n",
    "        model.train()\n",
    "      else:\n",
    "        model.eval()\n",
    "\n",
    "      running_loss = 0.0\n",
    "      running_corrects = 0\n",
    "\n",
    "      # Iterate over data\n",
    "      for inputs, labels in tqdm(dataloaders[phase]):\n",
    "        inputs = inputs.to(device)\n",
    "        labels = labels.to(device)\n",
    "        labels = labels.float()\n",
    "        # zero the parameter gradients\n",
    "        optimizer.zero_grad()\n",
    "        # forward\n",
    "        # In validation phase, we will not calculate the gradiant, so set it to false can reduce memory consumption\n",
    "        with torch.set_grad_enabled(phase == 'train'): \n",
    "          # Get model outputs and calculate loss\n",
    "          outputs = model(inputs)\n",
    "          outputs = torch.sigmoid(outputs)\n",
    "          loss = criterion(outputs, labels)\n",
    "          preds = outputs\n",
    "          \n",
    "          if phase == 'train':\n",
    "            loss.backward() # back propagation to calculate the grad\n",
    "            optimizer.step() # optimize the weight\n",
    "          \n",
    "        # statistics\n",
    "        running_loss += loss.item() * inputs.size(0)\n",
    "        running_corrects += calc_accuracy(preds, labels.data)\n",
    "      epoch_loss = running_loss / len(dataloaders[phase].dataset)\n",
    "      epoch_acc = running_corrects / len(dataloaders[phase].dataset)      \n",
    "      if phase == 'train':\n",
    "        loss_train.append(epoch_loss)\n",
    "      if phase == 'val':\n",
    "        loss_val.append(epoch_loss)\n",
    "      print('epoch:{} {} Loss: {:.4f} Acc: {:.4f}'.format(epoch, phase, epoch_loss, epoch_acc))\n",
    "\n",
    "      if phase == 'val' and epoch_acc > best_acc:\n",
    "        best_acc = epoch_acc\n",
    "        best_model_wts = copy.deepcopy(model.state_dict())\n",
    "  model.load_state_dict(best_model_wts)\n",
    "  return model, loss_train, loss_val"
   ]
  },
  {
   "cell_type": "markdown",
   "id": "a1484226",
   "metadata": {},
   "source": [
    "## Here we train the model with Adam and Binary Cross Entropy"
   ]
  },
  {
   "cell_type": "code",
   "execution_count": 19,
   "id": "798b5ec8",
   "metadata": {},
   "outputs": [
    {
     "name": "stderr",
     "output_type": "stream",
     "text": [
      "100%|███████████████████████████████████████████| 75/75 [01:02<00:00,  1.20it/s]\n"
     ]
    },
    {
     "name": "stdout",
     "output_type": "stream",
     "text": [
      "epoch:0 train Loss: 0.2751 Acc: 15.1013\n"
     ]
    },
    {
     "name": "stderr",
     "output_type": "stream",
     "text": [
      "100%|███████████████████████████████████████████| 10/10 [00:07<00:00,  1.31it/s]\n"
     ]
    },
    {
     "name": "stdout",
     "output_type": "stream",
     "text": [
      "epoch:0 val Loss: 0.2154 Acc: 15.5433\n"
     ]
    },
    {
     "name": "stderr",
     "output_type": "stream",
     "text": [
      "100%|███████████████████████████████████████████| 75/75 [01:02<00:00,  1.19it/s]\n"
     ]
    },
    {
     "name": "stdout",
     "output_type": "stream",
     "text": [
      "epoch:1 train Loss: 0.2063 Acc: 15.5875\n"
     ]
    },
    {
     "name": "stderr",
     "output_type": "stream",
     "text": [
      "100%|███████████████████████████████████████████| 10/10 [00:07<00:00,  1.29it/s]\n"
     ]
    },
    {
     "name": "stdout",
     "output_type": "stream",
     "text": [
      "epoch:1 val Loss: 0.2028 Acc: 15.6700\n"
     ]
    },
    {
     "name": "stderr",
     "output_type": "stream",
     "text": [
      "100%|███████████████████████████████████████████| 75/75 [01:02<00:00,  1.20it/s]\n"
     ]
    },
    {
     "name": "stdout",
     "output_type": "stream",
     "text": [
      "epoch:2 train Loss: 0.1914 Acc: 15.6813\n"
     ]
    },
    {
     "name": "stderr",
     "output_type": "stream",
     "text": [
      "100%|███████████████████████████████████████████| 10/10 [00:07<00:00,  1.29it/s]\n"
     ]
    },
    {
     "name": "stdout",
     "output_type": "stream",
     "text": [
      "epoch:2 val Loss: 0.1945 Acc: 15.7400\n"
     ]
    },
    {
     "name": "stderr",
     "output_type": "stream",
     "text": [
      "100%|███████████████████████████████████████████| 75/75 [01:02<00:00,  1.21it/s]\n"
     ]
    },
    {
     "name": "stdout",
     "output_type": "stream",
     "text": [
      "epoch:3 train Loss: 0.1833 Acc: 15.7662\n"
     ]
    },
    {
     "name": "stderr",
     "output_type": "stream",
     "text": [
      "100%|███████████████████████████████████████████| 10/10 [00:07<00:00,  1.29it/s]\n"
     ]
    },
    {
     "name": "stdout",
     "output_type": "stream",
     "text": [
      "epoch:3 val Loss: 0.1861 Acc: 15.7800\n"
     ]
    },
    {
     "name": "stderr",
     "output_type": "stream",
     "text": [
      "100%|███████████████████████████████████████████| 75/75 [01:02<00:00,  1.20it/s]\n"
     ]
    },
    {
     "name": "stdout",
     "output_type": "stream",
     "text": [
      "epoch:4 train Loss: 0.1800 Acc: 15.7637\n"
     ]
    },
    {
     "name": "stderr",
     "output_type": "stream",
     "text": [
      "100%|███████████████████████████████████████████| 10/10 [00:07<00:00,  1.30it/s]\n"
     ]
    },
    {
     "name": "stdout",
     "output_type": "stream",
     "text": [
      "epoch:4 val Loss: 0.1834 Acc: 15.8300\n"
     ]
    },
    {
     "name": "stderr",
     "output_type": "stream",
     "text": [
      "100%|███████████████████████████████████████████| 75/75 [01:02<00:00,  1.20it/s]\n"
     ]
    },
    {
     "name": "stdout",
     "output_type": "stream",
     "text": [
      "epoch:5 train Loss: 0.1790 Acc: 15.7792\n"
     ]
    },
    {
     "name": "stderr",
     "output_type": "stream",
     "text": [
      "100%|███████████████████████████████████████████| 10/10 [00:07<00:00,  1.27it/s]\n"
     ]
    },
    {
     "name": "stdout",
     "output_type": "stream",
     "text": [
      "epoch:5 val Loss: 0.1835 Acc: 15.8400\n"
     ]
    },
    {
     "name": "stderr",
     "output_type": "stream",
     "text": [
      "100%|███████████████████████████████████████████| 75/75 [01:02<00:00,  1.21it/s]\n"
     ]
    },
    {
     "name": "stdout",
     "output_type": "stream",
     "text": [
      "epoch:6 train Loss: 0.1701 Acc: 15.8283\n"
     ]
    },
    {
     "name": "stderr",
     "output_type": "stream",
     "text": [
      "100%|███████████████████████████████████████████| 10/10 [00:07<00:00,  1.31it/s]\n"
     ]
    },
    {
     "name": "stdout",
     "output_type": "stream",
     "text": [
      "epoch:6 val Loss: 0.1828 Acc: 15.8000\n"
     ]
    },
    {
     "name": "stderr",
     "output_type": "stream",
     "text": [
      "100%|███████████████████████████████████████████| 75/75 [01:02<00:00,  1.20it/s]\n"
     ]
    },
    {
     "name": "stdout",
     "output_type": "stream",
     "text": [
      "epoch:7 train Loss: 0.1710 Acc: 15.8500\n"
     ]
    },
    {
     "name": "stderr",
     "output_type": "stream",
     "text": [
      "100%|███████████████████████████████████████████| 10/10 [00:07<00:00,  1.31it/s]\n"
     ]
    },
    {
     "name": "stdout",
     "output_type": "stream",
     "text": [
      "epoch:7 val Loss: 0.1818 Acc: 15.8233\n"
     ]
    },
    {
     "name": "stderr",
     "output_type": "stream",
     "text": [
      "100%|███████████████████████████████████████████| 75/75 [01:03<00:00,  1.19it/s]\n"
     ]
    },
    {
     "name": "stdout",
     "output_type": "stream",
     "text": [
      "epoch:8 train Loss: 0.1684 Acc: 15.8333\n"
     ]
    },
    {
     "name": "stderr",
     "output_type": "stream",
     "text": [
      "100%|███████████████████████████████████████████| 10/10 [00:07<00:00,  1.26it/s]\n"
     ]
    },
    {
     "name": "stdout",
     "output_type": "stream",
     "text": [
      "epoch:8 val Loss: 0.1780 Acc: 15.8567\n"
     ]
    },
    {
     "name": "stderr",
     "output_type": "stream",
     "text": [
      "100%|███████████████████████████████████████████| 75/75 [01:03<00:00,  1.19it/s]\n"
     ]
    },
    {
     "name": "stdout",
     "output_type": "stream",
     "text": [
      "epoch:9 train Loss: 0.1665 Acc: 15.8521\n"
     ]
    },
    {
     "name": "stderr",
     "output_type": "stream",
     "text": [
      "100%|███████████████████████████████████████████| 10/10 [00:07<00:00,  1.30it/s]\n"
     ]
    },
    {
     "name": "stdout",
     "output_type": "stream",
     "text": [
      "epoch:9 val Loss: 0.1809 Acc: 15.8233\n"
     ]
    },
    {
     "name": "stderr",
     "output_type": "stream",
     "text": [
      "100%|███████████████████████████████████████████| 75/75 [01:02<00:00,  1.19it/s]\n"
     ]
    },
    {
     "name": "stdout",
     "output_type": "stream",
     "text": [
      "epoch:10 train Loss: 0.1628 Acc: 15.8796\n"
     ]
    },
    {
     "name": "stderr",
     "output_type": "stream",
     "text": [
      "100%|███████████████████████████████████████████| 10/10 [00:07<00:00,  1.28it/s]\n"
     ]
    },
    {
     "name": "stdout",
     "output_type": "stream",
     "text": [
      "epoch:10 val Loss: 0.1835 Acc: 15.8500\n"
     ]
    },
    {
     "name": "stderr",
     "output_type": "stream",
     "text": [
      "100%|███████████████████████████████████████████| 75/75 [01:02<00:00,  1.19it/s]\n"
     ]
    },
    {
     "name": "stdout",
     "output_type": "stream",
     "text": [
      "epoch:11 train Loss: 0.1624 Acc: 15.8796\n"
     ]
    },
    {
     "name": "stderr",
     "output_type": "stream",
     "text": [
      "100%|███████████████████████████████████████████| 10/10 [00:07<00:00,  1.30it/s]\n"
     ]
    },
    {
     "name": "stdout",
     "output_type": "stream",
     "text": [
      "epoch:11 val Loss: 0.1776 Acc: 15.8700\n"
     ]
    },
    {
     "name": "stderr",
     "output_type": "stream",
     "text": [
      "100%|███████████████████████████████████████████| 75/75 [01:02<00:00,  1.21it/s]\n"
     ]
    },
    {
     "name": "stdout",
     "output_type": "stream",
     "text": [
      "epoch:12 train Loss: 0.1645 Acc: 15.8629\n"
     ]
    },
    {
     "name": "stderr",
     "output_type": "stream",
     "text": [
      "100%|███████████████████████████████████████████| 10/10 [00:07<00:00,  1.30it/s]\n"
     ]
    },
    {
     "name": "stdout",
     "output_type": "stream",
     "text": [
      "epoch:12 val Loss: 0.1822 Acc: 15.8833\n"
     ]
    },
    {
     "name": "stderr",
     "output_type": "stream",
     "text": [
      "100%|███████████████████████████████████████████| 75/75 [01:03<00:00,  1.19it/s]\n"
     ]
    },
    {
     "name": "stdout",
     "output_type": "stream",
     "text": [
      "epoch:13 train Loss: 0.1594 Acc: 15.9096\n"
     ]
    },
    {
     "name": "stderr",
     "output_type": "stream",
     "text": [
      "100%|███████████████████████████████████████████| 10/10 [00:07<00:00,  1.28it/s]"
     ]
    },
    {
     "name": "stdout",
     "output_type": "stream",
     "text": [
      "epoch:13 val Loss: 0.1776 Acc: 15.8933\n"
     ]
    },
    {
     "name": "stderr",
     "output_type": "stream",
     "text": [
      "\n"
     ]
    }
   ],
   "source": [
    "# The first parameter is the model's parameter that need to train\n",
    "# The second parameter is the learning rate\n",
    "bce_optimizer = optim.Adam(model_ft.parameters(), lr=0.001)\n",
    "# Binary Cross Entropy loss function\n",
    "bce_criterion = torch.nn.BCELoss().to(device)\n",
    "bce_model, bce_train_loss, bce_val_loss = train_model(model_ft, dataloaders_dict, bce_criterion, bce_optimizer, num_epoch=num_epoch)\n"
   ]
  },
  {
   "cell_type": "markdown",
   "id": "2442e880",
   "metadata": {},
   "source": [
    "## Plot the Loss with Binary Cross Entropy"
   ]
  },
  {
   "cell_type": "code",
   "execution_count": 20,
   "id": "4aebd09e",
   "metadata": {},
   "outputs": [
    {
     "data": {
      "image/png": "[encoded data removed]",
      "text/plain": [
       "<Figure size 432x288 with 1 Axes>"
      ]
     },
     "metadata": {
      "needs_background": "light"
     },
     "output_type": "display_data"
    }
   ],
   "source": [
    "draw_plot(bce_train_loss, bce_val_loss, num_epoch)"
   ]
  },
  {
   "cell_type": "code",
   "execution_count": 119,
   "id": "b4f9db9e",
   "metadata": {},
   "outputs": [],
   "source": [
    "torch.save(bce_model,\"/Users/huangcheng/Downloads/hbku/aid_lr0001_bs32/bce.pth\")"
   ]
  },
  {
   "cell_type": "markdown",
   "id": "c118753a",
   "metadata": {},
   "source": [
    "## Evluate the Model with Binary Cross Entropy"
   ]
  },
  {
   "cell_type": "code",
   "execution_count": 31,
   "id": "3f3898ce",
   "metadata": {},
   "outputs": [
    {
     "name": "stderr",
     "output_type": "stream",
     "text": [
      "100%|█████████████████████████████████████████| 301/301 [00:13<00:00, 21.95it/s]\n"
     ]
    },
    {
     "name": "stdout",
     "output_type": "stream",
     "text": [
      "[1.         0.71518987 0.96116505 0.9078341  0.75       0.56\n",
      " 0.75       0.7        0.93495935 1.         0.96137339 1.\n",
      " 0.83333333 0.66666667 0.75       0.92622951 0.58108108]\n",
      "[0.4        0.79020979 0.93396226 0.95169082 0.16666667 0.37837838\n",
      " 0.46153846 0.66666667 0.9787234  0.         0.97391304 0.76\n",
      " 0.45454545 0.34782609 0.9        0.93004115 0.4673913 ]\n",
      "[0.57142857 0.75083056 0.94736842 0.92924528 0.27272727 0.4516129\n",
      " 0.57142857 0.68292683 0.95634096 0.         0.96760259 0.86363636\n",
      " 0.58823529 0.45714286 0.81818182 0.92813142 0.51807229]\n",
      "precision_micro =  0.881491344873502\n",
      "recall_micro =  0.8514469453376206\n",
      "f1_micro =  0.8662087013411841\n"
     ]
    }
   ],
   "source": [
    "precision, recall, f1, precision_micro, recall_micro, f1_micro  = experiment_evaluate(bce_model)\n",
    "print(precision)\n",
    "print(recall)\n",
    "print(f1)\n",
    "\n",
    "print(\"precision_micro = \", precision_micro)\n",
    "print(\"recall_micro = \", recall_micro)\n",
    "print(\"f1_micro = \", f1_micro)"
   ]
  },
  {
   "cell_type": "markdown",
   "id": "0c0da0f1",
   "metadata": {},
   "source": [
    "## Focal and ASL Loss Function Class"
   ]
  },
  {
   "cell_type": "code",
   "execution_count": 33,
   "id": "96061f49",
   "metadata": {},
   "outputs": [],
   "source": [
    "class AsymmetricLoss(nn.Module):\n",
    "    def __init__(self, gamma_neg=4, gamma_pos=1, clip=0.05, eps=1e-8, disable_torch_grad_focal_loss=True):\n",
    "        super(AsymmetricLoss, self).__init__()\n",
    "\n",
    "        self.gamma_neg = gamma_neg\n",
    "        self.gamma_pos = gamma_pos\n",
    "        self.clip = clip\n",
    "        self.disable_torch_grad_focal_loss = disable_torch_grad_focal_loss\n",
    "        self.eps = eps\n",
    "\n",
    "    def forward(self, x, y):\n",
    "        \"\"\"\"\n",
    "        Parameters\n",
    "        ----------\n",
    "        x: input logits\n",
    "        y: targets (multi-label binarized vector)\n",
    "        \"\"\"\n",
    "        # Calculating Probabilities\n",
    "        x_sigmoid = x\n",
    "        xs_pos = x_sigmoid\n",
    "        xs_neg = 1 - x_sigmoid\n",
    "\n",
    "        # Asymmetric Clipping\n",
    "        if self.clip is not None and self.clip > 0:\n",
    "            xs_neg = (xs_neg + self.clip).clamp(max=1)\n",
    "\n",
    "        # Basic CE calculation\n",
    "        los_pos = y * torch.log(xs_pos.clamp(min=self.eps))\n",
    "        los_neg = (1 - y) * torch.log(xs_neg.clamp(min=self.eps))\n",
    "        loss = los_pos + los_neg\n",
    "\n",
    "        # Asymmetric Focusing\n",
    "        if self.gamma_neg > 0 or self.gamma_pos > 0:\n",
    "            if self.disable_torch_grad_focal_loss:\n",
    "                torch.set_grad_enabled(False)\n",
    "            pt0 = xs_pos * y\n",
    "            pt1 = xs_neg * (1 - y)  # pt = p if t > 0 else 1-p\n",
    "            pt = pt0 + pt1\n",
    "            one_sided_gamma = self.gamma_pos * y + self.gamma_neg * (1 - y)\n",
    "            one_sided_w = torch.pow(1 - pt, one_sided_gamma)\n",
    "            if self.disable_torch_grad_focal_loss:\n",
    "                torch.set_grad_enabled(True)\n",
    "            loss *= one_sided_w\n",
    "\n",
    "        return -loss.sum()\n"
   ]
  },
  {
   "cell_type": "markdown",
   "id": "5d418f98",
   "metadata": {},
   "source": [
    "## Here we train the model with Adam and Focal Loss"
   ]
  },
  {
   "cell_type": "code",
   "execution_count": 34,
   "id": "0573ee95",
   "metadata": {},
   "outputs": [
    {
     "name": "stderr",
     "output_type": "stream",
     "text": [
      "100%|███████████████████████████████████████████| 75/75 [01:02<00:00,  1.20it/s]\n"
     ]
    },
    {
     "name": "stdout",
     "output_type": "stream",
     "text": [
      "epoch:0 train Loss: 54.6746 Acc: 14.2417\n"
     ]
    },
    {
     "name": "stderr",
     "output_type": "stream",
     "text": [
      "100%|███████████████████████████████████████████| 10/10 [00:07<00:00,  1.30it/s]\n"
     ]
    },
    {
     "name": "stdout",
     "output_type": "stream",
     "text": [
      "epoch:0 val Loss: 37.0277 Acc: 15.3167\n"
     ]
    },
    {
     "name": "stderr",
     "output_type": "stream",
     "text": [
      "100%|███████████████████████████████████████████| 75/75 [01:02<00:00,  1.20it/s]\n"
     ]
    },
    {
     "name": "stdout",
     "output_type": "stream",
     "text": [
      "epoch:1 train Loss: 38.1090 Acc: 15.2183\n"
     ]
    },
    {
     "name": "stderr",
     "output_type": "stream",
     "text": [
      "100%|███████████████████████████████████████████| 10/10 [00:07<00:00,  1.29it/s]\n"
     ]
    },
    {
     "name": "stdout",
     "output_type": "stream",
     "text": [
      "epoch:1 val Loss: 32.0762 Acc: 15.6133\n"
     ]
    },
    {
     "name": "stderr",
     "output_type": "stream",
     "text": [
      "100%|███████████████████████████████████████████| 75/75 [01:02<00:00,  1.20it/s]\n"
     ]
    },
    {
     "name": "stdout",
     "output_type": "stream",
     "text": [
      "epoch:2 train Loss: 34.3117 Acc: 15.3829\n"
     ]
    },
    {
     "name": "stderr",
     "output_type": "stream",
     "text": [
      "100%|███████████████████████████████████████████| 10/10 [00:07<00:00,  1.30it/s]\n"
     ]
    },
    {
     "name": "stdout",
     "output_type": "stream",
     "text": [
      "epoch:2 val Loss: 29.7637 Acc: 15.7033\n"
     ]
    },
    {
     "name": "stderr",
     "output_type": "stream",
     "text": [
      "100%|███████████████████████████████████████████| 75/75 [01:02<00:00,  1.20it/s]\n"
     ]
    },
    {
     "name": "stdout",
     "output_type": "stream",
     "text": [
      "epoch:3 train Loss: 31.5725 Acc: 15.5492\n"
     ]
    },
    {
     "name": "stderr",
     "output_type": "stream",
     "text": [
      "100%|███████████████████████████████████████████| 10/10 [00:07<00:00,  1.28it/s]\n"
     ]
    },
    {
     "name": "stdout",
     "output_type": "stream",
     "text": [
      "epoch:3 val Loss: 28.6635 Acc: 15.7600\n"
     ]
    },
    {
     "name": "stderr",
     "output_type": "stream",
     "text": [
      "100%|███████████████████████████████████████████| 75/75 [01:02<00:00,  1.19it/s]\n"
     ]
    },
    {
     "name": "stdout",
     "output_type": "stream",
     "text": [
      "epoch:4 train Loss: 29.4916 Acc: 15.6129\n"
     ]
    },
    {
     "name": "stderr",
     "output_type": "stream",
     "text": [
      "100%|███████████████████████████████████████████| 10/10 [00:07<00:00,  1.28it/s]\n"
     ]
    },
    {
     "name": "stdout",
     "output_type": "stream",
     "text": [
      "epoch:4 val Loss: 27.8836 Acc: 15.7867\n"
     ]
    },
    {
     "name": "stderr",
     "output_type": "stream",
     "text": [
      "100%|███████████████████████████████████████████| 75/75 [01:02<00:00,  1.20it/s]\n"
     ]
    },
    {
     "name": "stdout",
     "output_type": "stream",
     "text": [
      "epoch:5 train Loss: 28.6229 Acc: 15.6708\n"
     ]
    },
    {
     "name": "stderr",
     "output_type": "stream",
     "text": [
      "100%|███████████████████████████████████████████| 10/10 [00:07<00:00,  1.29it/s]\n"
     ]
    },
    {
     "name": "stdout",
     "output_type": "stream",
     "text": [
      "epoch:5 val Loss: 26.8261 Acc: 15.8067\n"
     ]
    },
    {
     "name": "stderr",
     "output_type": "stream",
     "text": [
      "100%|███████████████████████████████████████████| 75/75 [01:03<00:00,  1.19it/s]\n"
     ]
    },
    {
     "name": "stdout",
     "output_type": "stream",
     "text": [
      "epoch:6 train Loss: 27.0144 Acc: 15.7229\n"
     ]
    },
    {
     "name": "stderr",
     "output_type": "stream",
     "text": [
      "100%|███████████████████████████████████████████| 10/10 [00:07<00:00,  1.28it/s]\n"
     ]
    },
    {
     "name": "stdout",
     "output_type": "stream",
     "text": [
      "epoch:6 val Loss: 26.5885 Acc: 15.7933\n"
     ]
    },
    {
     "name": "stderr",
     "output_type": "stream",
     "text": [
      "100%|███████████████████████████████████████████| 75/75 [01:02<00:00,  1.20it/s]\n"
     ]
    },
    {
     "name": "stdout",
     "output_type": "stream",
     "text": [
      "epoch:7 train Loss: 26.8205 Acc: 15.7542\n"
     ]
    },
    {
     "name": "stderr",
     "output_type": "stream",
     "text": [
      "100%|███████████████████████████████████████████| 10/10 [00:07<00:00,  1.29it/s]\n"
     ]
    },
    {
     "name": "stdout",
     "output_type": "stream",
     "text": [
      "epoch:7 val Loss: 26.1285 Acc: 15.8500\n"
     ]
    },
    {
     "name": "stderr",
     "output_type": "stream",
     "text": [
      "100%|███████████████████████████████████████████| 75/75 [01:02<00:00,  1.20it/s]\n"
     ]
    },
    {
     "name": "stdout",
     "output_type": "stream",
     "text": [
      "epoch:8 train Loss: 25.8381 Acc: 15.7696\n"
     ]
    },
    {
     "name": "stderr",
     "output_type": "stream",
     "text": [
      "100%|███████████████████████████████████████████| 10/10 [00:07<00:00,  1.30it/s]\n"
     ]
    },
    {
     "name": "stdout",
     "output_type": "stream",
     "text": [
      "epoch:8 val Loss: 25.8160 Acc: 15.9033\n"
     ]
    },
    {
     "name": "stderr",
     "output_type": "stream",
     "text": [
      "100%|███████████████████████████████████████████| 75/75 [01:02<00:00,  1.20it/s]\n"
     ]
    },
    {
     "name": "stdout",
     "output_type": "stream",
     "text": [
      "epoch:9 train Loss: 25.0196 Acc: 15.8208\n"
     ]
    },
    {
     "name": "stderr",
     "output_type": "stream",
     "text": [
      "100%|███████████████████████████████████████████| 10/10 [00:07<00:00,  1.29it/s]\n"
     ]
    },
    {
     "name": "stdout",
     "output_type": "stream",
     "text": [
      "epoch:9 val Loss: 25.5629 Acc: 15.8733\n"
     ]
    },
    {
     "name": "stderr",
     "output_type": "stream",
     "text": [
      "100%|███████████████████████████████████████████| 75/75 [01:02<00:00,  1.20it/s]\n"
     ]
    },
    {
     "name": "stdout",
     "output_type": "stream",
     "text": [
      "epoch:10 train Loss: 24.3839 Acc: 15.8371\n"
     ]
    },
    {
     "name": "stderr",
     "output_type": "stream",
     "text": [
      "100%|███████████████████████████████████████████| 10/10 [00:07<00:00,  1.28it/s]\n"
     ]
    },
    {
     "name": "stdout",
     "output_type": "stream",
     "text": [
      "epoch:10 val Loss: 25.4354 Acc: 15.8900\n"
     ]
    },
    {
     "name": "stderr",
     "output_type": "stream",
     "text": [
      "100%|███████████████████████████████████████████| 75/75 [01:02<00:00,  1.21it/s]\n"
     ]
    },
    {
     "name": "stdout",
     "output_type": "stream",
     "text": [
      "epoch:11 train Loss: 23.8333 Acc: 15.8721\n"
     ]
    },
    {
     "name": "stderr",
     "output_type": "stream",
     "text": [
      "100%|███████████████████████████████████████████| 10/10 [00:07<00:00,  1.31it/s]\n"
     ]
    },
    {
     "name": "stdout",
     "output_type": "stream",
     "text": [
      "epoch:11 val Loss: 25.1169 Acc: 15.9033\n"
     ]
    },
    {
     "name": "stderr",
     "output_type": "stream",
     "text": [
      "100%|███████████████████████████████████████████| 75/75 [01:02<00:00,  1.21it/s]\n"
     ]
    },
    {
     "name": "stdout",
     "output_type": "stream",
     "text": [
      "epoch:12 train Loss: 22.9651 Acc: 15.9100\n"
     ]
    },
    {
     "name": "stderr",
     "output_type": "stream",
     "text": [
      "100%|███████████████████████████████████████████| 10/10 [00:07<00:00,  1.31it/s]\n"
     ]
    },
    {
     "name": "stdout",
     "output_type": "stream",
     "text": [
      "epoch:12 val Loss: 24.9749 Acc: 15.9000\n"
     ]
    },
    {
     "name": "stderr",
     "output_type": "stream",
     "text": [
      "100%|███████████████████████████████████████████| 75/75 [01:02<00:00,  1.21it/s]\n"
     ]
    },
    {
     "name": "stdout",
     "output_type": "stream",
     "text": [
      "epoch:13 train Loss: 23.1927 Acc: 15.8858\n"
     ]
    },
    {
     "name": "stderr",
     "output_type": "stream",
     "text": [
      "100%|███████████████████████████████████████████| 10/10 [00:07<00:00,  1.31it/s]"
     ]
    },
    {
     "name": "stdout",
     "output_type": "stream",
     "text": [
      "epoch:13 val Loss: 24.8061 Acc: 15.9233\n"
     ]
    },
    {
     "name": "stderr",
     "output_type": "stream",
     "text": [
      "\n"
     ]
    }
   ],
   "source": [
    "# The first parameter is the model's parameter that need to train\n",
    "# The second parameter is the learning rate\n",
    "focal_optimizer = optim.Adam(model_ft.parameters(), lr=0.0001, weight_decay=1e-4)\n",
    "# Binary Cross Entropy loss function\n",
    "focal_criterion = AsymmetricLoss(gamma_neg=2, gamma_pos=2, clip=0).to(device)\n",
    "focal_model, focal_train_loss, focal_val_loss = train_model(model_ft, dataloaders_dict, focal_criterion, focal_optimizer, num_epoch=num_epoch)"
   ]
  },
  {
   "cell_type": "markdown",
   "id": "7891828b",
   "metadata": {},
   "source": [
    "## Plot the Loss with Focal Loss"
   ]
  },
  {
   "cell_type": "code",
   "execution_count": 35,
   "id": "b13be75f",
   "metadata": {},
   "outputs": [
    {
     "data": {
      "image/png": "[encoded data removed]",
      "text/plain": [
       "<Figure size 432x288 with 1 Axes>"
      ]
     },
     "metadata": {
      "needs_background": "light"
     },
     "output_type": "display_data"
    }
   ],
   "source": [
    "draw_plot(focal_train_loss, focal_val_loss, num_epoch)"
   ]
  },
  {
   "cell_type": "markdown",
   "id": "ac9aafd0",
   "metadata": {},
   "source": [
    "## Evluate the Model with Focal Loss"
   ]
  },
  {
   "cell_type": "code",
   "execution_count": 36,
   "id": "6d55348f",
   "metadata": {},
   "outputs": [
    {
     "name": "stderr",
     "output_type": "stream",
     "text": [
      "100%|█████████████████████████████████████████| 301/301 [00:13<00:00, 22.09it/s]"
     ]
    },
    {
     "name": "stdout",
     "output_type": "stream",
     "text": [
      "[1.         0.74324324 0.94144144 0.92957746 0.         0.58333333\n",
      " 0.86666667 0.75       0.93117409 1.         0.96581197 0.95238095\n",
      " 0.92307692 0.8        0.88888889 0.92741935 0.62121212]\n",
      "[0.6        0.76923077 0.98584906 0.95652174 0.         0.18918919\n",
      " 0.5        0.57142857 0.9787234  0.         0.9826087  0.8\n",
      " 0.54545455 0.52173913 0.8        0.94650206 0.44565217]\n",
      "[0.75       0.75601375 0.96313364 0.94285714 0.         0.28571429\n",
      " 0.63414634 0.64864865 0.95435685 0.         0.97413793 0.86956522\n",
      " 0.68571429 0.63157895 0.84210526 0.93686354 0.51898734]\n",
      "avg precision =  0.8131897908677533\n",
      "avg recall =  0.6231117254650453\n",
      "avg f1 =  0.670224893037689\n"
     ]
    },
    {
     "name": "stderr",
     "output_type": "stream",
     "text": [
      "\n"
     ]
    }
   ],
   "source": [
    "precision, recall, f1, precision_micro, recall_micro, f1_micro = experiment_evaluate(focal_model)\n",
    "print(precision)\n",
    "print(recall)\n",
    "print(f1)\n",
    "\n",
    "print(\"precision_micro = \", precision_micro)\n",
    "print(\"recall_micro = \", recall_micro)\n",
    "print(\"f1_micro = \", f1_micro)"
   ]
  },
  {
   "cell_type": "markdown",
   "id": "8f3edb37",
   "metadata": {},
   "source": [
    "## Here we train the model with Adam and ASL"
   ]
  },
  {
   "cell_type": "code",
   "execution_count": 145,
   "id": "7353874b",
   "metadata": {},
   "outputs": [
    {
     "name": "stderr",
     "output_type": "stream",
     "text": [
      "100%|█████████████████████████████████████████| 300/300 [01:05<00:00,  4.60it/s]\n"
     ]
    },
    {
     "name": "stdout",
     "output_type": "stream",
     "text": [
      "epoch:0 train Loss: 8.3593 Acc: 15.9817\n"
     ]
    },
    {
     "name": "stderr",
     "output_type": "stream",
     "text": [
      "100%|███████████████████████████████████████████| 38/38 [00:08<00:00,  4.57it/s]\n"
     ]
    },
    {
     "name": "stdout",
     "output_type": "stream",
     "text": [
      "epoch:0 val Loss: 13.4085 Acc: 15.6733\n"
     ]
    },
    {
     "name": "stderr",
     "output_type": "stream",
     "text": [
      "100%|█████████████████████████████████████████| 300/300 [01:06<00:00,  4.52it/s]\n"
     ]
    },
    {
     "name": "stdout",
     "output_type": "stream",
     "text": [
      "epoch:1 train Loss: 8.4509 Acc: 15.9833\n"
     ]
    },
    {
     "name": "stderr",
     "output_type": "stream",
     "text": [
      "100%|███████████████████████████████████████████| 38/38 [00:08<00:00,  4.60it/s]\n"
     ]
    },
    {
     "name": "stdout",
     "output_type": "stream",
     "text": [
      "epoch:1 val Loss: 12.3881 Acc: 15.8267\n"
     ]
    },
    {
     "name": "stderr",
     "output_type": "stream",
     "text": [
      "100%|█████████████████████████████████████████| 300/300 [01:06<00:00,  4.54it/s]\n"
     ]
    },
    {
     "name": "stdout",
     "output_type": "stream",
     "text": [
      "epoch:2 train Loss: 9.1749 Acc: 15.9392\n"
     ]
    },
    {
     "name": "stderr",
     "output_type": "stream",
     "text": [
      "100%|███████████████████████████████████████████| 38/38 [00:08<00:00,  4.60it/s]\n"
     ]
    },
    {
     "name": "stdout",
     "output_type": "stream",
     "text": [
      "epoch:2 val Loss: 12.5390 Acc: 15.7967\n"
     ]
    },
    {
     "name": "stderr",
     "output_type": "stream",
     "text": [
      "100%|█████████████████████████████████████████| 300/300 [01:05<00:00,  4.55it/s]\n"
     ]
    },
    {
     "name": "stdout",
     "output_type": "stream",
     "text": [
      "epoch:3 train Loss: 9.2882 Acc: 15.9404\n"
     ]
    },
    {
     "name": "stderr",
     "output_type": "stream",
     "text": [
      "100%|███████████████████████████████████████████| 38/38 [00:08<00:00,  4.59it/s]\n"
     ]
    },
    {
     "name": "stdout",
     "output_type": "stream",
     "text": [
      "epoch:3 val Loss: 13.3908 Acc: 15.7400\n"
     ]
    },
    {
     "name": "stderr",
     "output_type": "stream",
     "text": [
      "100%|█████████████████████████████████████████| 300/300 [01:06<00:00,  4.54it/s]\n"
     ]
    },
    {
     "name": "stdout",
     "output_type": "stream",
     "text": [
      "epoch:4 train Loss: 9.5494 Acc: 15.9167\n"
     ]
    },
    {
     "name": "stderr",
     "output_type": "stream",
     "text": [
      "100%|███████████████████████████████████████████| 38/38 [00:08<00:00,  4.57it/s]\n"
     ]
    },
    {
     "name": "stdout",
     "output_type": "stream",
     "text": [
      "epoch:4 val Loss: 12.5986 Acc: 15.8300\n"
     ]
    },
    {
     "name": "stderr",
     "output_type": "stream",
     "text": [
      "100%|█████████████████████████████████████████| 300/300 [01:06<00:00,  4.52it/s]\n"
     ]
    },
    {
     "name": "stdout",
     "output_type": "stream",
     "text": [
      "epoch:5 train Loss: 9.8147 Acc: 15.9337\n"
     ]
    },
    {
     "name": "stderr",
     "output_type": "stream",
     "text": [
      "100%|███████████████████████████████████████████| 38/38 [00:08<00:00,  4.59it/s]\n"
     ]
    },
    {
     "name": "stdout",
     "output_type": "stream",
     "text": [
      "epoch:5 val Loss: 13.8882 Acc: 15.7333\n"
     ]
    },
    {
     "name": "stderr",
     "output_type": "stream",
     "text": [
      "100%|█████████████████████████████████████████| 300/300 [01:06<00:00,  4.53it/s]\n"
     ]
    },
    {
     "name": "stdout",
     "output_type": "stream",
     "text": [
      "epoch:6 train Loss: 9.3915 Acc: 15.9563\n"
     ]
    },
    {
     "name": "stderr",
     "output_type": "stream",
     "text": [
      "100%|███████████████████████████████████████████| 38/38 [00:08<00:00,  4.60it/s]\n"
     ]
    },
    {
     "name": "stdout",
     "output_type": "stream",
     "text": [
      "epoch:6 val Loss: 14.0136 Acc: 15.7933\n"
     ]
    },
    {
     "name": "stderr",
     "output_type": "stream",
     "text": [
      "100%|█████████████████████████████████████████| 300/300 [01:06<00:00,  4.51it/s]\n"
     ]
    },
    {
     "name": "stdout",
     "output_type": "stream",
     "text": [
      "epoch:7 train Loss: 9.8295 Acc: 15.9413\n"
     ]
    },
    {
     "name": "stderr",
     "output_type": "stream",
     "text": [
      "100%|███████████████████████████████████████████| 38/38 [00:08<00:00,  4.58it/s]\n"
     ]
    },
    {
     "name": "stdout",
     "output_type": "stream",
     "text": [
      "epoch:7 val Loss: 13.8897 Acc: 15.8267\n"
     ]
    },
    {
     "name": "stderr",
     "output_type": "stream",
     "text": [
      "100%|█████████████████████████████████████████| 300/300 [01:06<00:00,  4.54it/s]\n"
     ]
    },
    {
     "name": "stdout",
     "output_type": "stream",
     "text": [
      "epoch:8 train Loss: 9.2443 Acc: 15.9621\n"
     ]
    },
    {
     "name": "stderr",
     "output_type": "stream",
     "text": [
      "100%|███████████████████████████████████████████| 38/38 [00:08<00:00,  4.60it/s]\n"
     ]
    },
    {
     "name": "stdout",
     "output_type": "stream",
     "text": [
      "epoch:8 val Loss: 13.9992 Acc: 15.7667\n"
     ]
    },
    {
     "name": "stderr",
     "output_type": "stream",
     "text": [
      "100%|█████████████████████████████████████████| 300/300 [01:06<00:00,  4.54it/s]\n"
     ]
    },
    {
     "name": "stdout",
     "output_type": "stream",
     "text": [
      "epoch:9 train Loss: 9.7586 Acc: 15.9308\n"
     ]
    },
    {
     "name": "stderr",
     "output_type": "stream",
     "text": [
      "100%|███████████████████████████████████████████| 38/38 [00:08<00:00,  4.58it/s]\n"
     ]
    },
    {
     "name": "stdout",
     "output_type": "stream",
     "text": [
      "epoch:9 val Loss: 13.5180 Acc: 15.8267\n"
     ]
    },
    {
     "name": "stderr",
     "output_type": "stream",
     "text": [
      "100%|█████████████████████████████████████████| 300/300 [01:06<00:00,  4.54it/s]\n"
     ]
    },
    {
     "name": "stdout",
     "output_type": "stream",
     "text": [
      "epoch:10 train Loss: 9.9880 Acc: 15.9371\n"
     ]
    },
    {
     "name": "stderr",
     "output_type": "stream",
     "text": [
      "100%|███████████████████████████████████████████| 38/38 [00:08<00:00,  4.58it/s]\n"
     ]
    },
    {
     "name": "stdout",
     "output_type": "stream",
     "text": [
      "epoch:10 val Loss: 14.4672 Acc: 15.8133\n"
     ]
    },
    {
     "name": "stderr",
     "output_type": "stream",
     "text": [
      "100%|█████████████████████████████████████████| 300/300 [01:06<00:00,  4.53it/s]\n"
     ]
    },
    {
     "name": "stdout",
     "output_type": "stream",
     "text": [
      "epoch:11 train Loss: 10.3039 Acc: 15.9046\n"
     ]
    },
    {
     "name": "stderr",
     "output_type": "stream",
     "text": [
      "100%|███████████████████████████████████████████| 38/38 [00:08<00:00,  4.60it/s]\n"
     ]
    },
    {
     "name": "stdout",
     "output_type": "stream",
     "text": [
      "epoch:11 val Loss: 13.4157 Acc: 15.8100\n"
     ]
    },
    {
     "name": "stderr",
     "output_type": "stream",
     "text": [
      "100%|█████████████████████████████████████████| 300/300 [01:06<00:00,  4.49it/s]\n"
     ]
    },
    {
     "name": "stdout",
     "output_type": "stream",
     "text": [
      "epoch:12 train Loss: 10.0242 Acc: 15.9258\n"
     ]
    },
    {
     "name": "stderr",
     "output_type": "stream",
     "text": [
      "100%|███████████████████████████████████████████| 38/38 [00:08<00:00,  4.57it/s]\n"
     ]
    },
    {
     "name": "stdout",
     "output_type": "stream",
     "text": [
      "epoch:12 val Loss: 14.9180 Acc: 15.8567\n"
     ]
    },
    {
     "name": "stderr",
     "output_type": "stream",
     "text": [
      "100%|█████████████████████████████████████████| 300/300 [01:06<00:00,  4.51it/s]\n"
     ]
    },
    {
     "name": "stdout",
     "output_type": "stream",
     "text": [
      "epoch:13 train Loss: 9.8978 Acc: 15.9746\n"
     ]
    },
    {
     "name": "stderr",
     "output_type": "stream",
     "text": [
      "100%|███████████████████████████████████████████| 38/38 [00:08<00:00,  4.50it/s]"
     ]
    },
    {
     "name": "stdout",
     "output_type": "stream",
     "text": [
      "epoch:13 val Loss: 14.4166 Acc: 15.8267\n"
     ]
    },
    {
     "name": "stderr",
     "output_type": "stream",
     "text": [
      "\n"
     ]
    }
   ],
   "source": [
    "# The first parameter is the model's parameter that need to train\n",
    "# The second parameter is the learning rate\n",
    "asl_optimizer = optim.Adam(model_ft.parameters(), lr=0.001)\n",
    "# Binary Cross Entropy loss function\n",
    "asl_criterion = AsymmetricLoss(gamma_neg=2, gamma_pos=1, clip=0).to(device)\n",
    "asl_model, asl_train_loss, asl_val_loss = train_model(model_ft, dataloaders_dict, asl_criterion, asl_optimizer, num_epoch=num_epoch)"
   ]
  },
  {
   "cell_type": "markdown",
   "id": "eb232a37",
   "metadata": {},
   "source": [
    "## Save Model"
   ]
  },
  {
   "cell_type": "code",
   "execution_count": 146,
   "id": "8f0d86d6",
   "metadata": {},
   "outputs": [
    {
     "data": {
      "image/png": "[encoded data removed]",
      "text/plain": [
       "<Figure size 432x288 with 1 Axes>"
      ]
     },
     "metadata": {
      "needs_background": "light"
     },
     "output_type": "display_data"
    },
    {
     "name": "stdout",
     "output_type": "stream",
     "text": [
      "[8.359346409638723, 8.45092772046725, 9.17492939511935, 9.288181026776632, 9.54939340988795, 9.814677669604619, 9.39150926510493, 9.829498618443807, 9.244297788143157, 9.758563186526299, 9.987984421253204, 10.303865460554759, 10.02416127840678, 9.897778488000235]\n",
      "[13.408462320963542, 12.388080501556397, 12.539042002360025, 13.390822054545085, 12.598635133107503, 13.88820925394694, 14.013565969467162, 13.88972250620524, 13.999203898111979, 13.518046925862631, 14.467167930603027, 13.415689633687338, 14.918022842407227, 14.416557280222575]\n"
     ]
    }
   ],
   "source": [
    "draw_plot(asl_train_loss, asl_val_loss, num_epoch)\n",
    "\n",
    "print(asl_train_loss)\n",
    "print(asl_val_loss)"
   ]
  },
  {
   "cell_type": "markdown",
   "id": "7252666d",
   "metadata": {},
   "source": [
    "## Evaluate the Model with ASL"
   ]
  },
  {
   "cell_type": "code",
   "execution_count": 147,
   "id": "fc867f0d",
   "metadata": {},
   "outputs": [
    {
     "name": "stderr",
     "output_type": "stream",
     "text": [
      "100%|█████████████████████████████████████████| 301/301 [00:13<00:00, 22.34it/s]"
     ]
    },
    {
     "name": "stdout",
     "output_type": "stream",
     "text": [
      "[1.         0.65591398 0.93150685 0.935      0.         0.40540541\n",
      " 0.8125     0.8125     0.90551181 1.         0.94560669 1.\n",
      " 0.86666667 0.5625     0.63636364 0.90769231 0.68253968]\n",
      "[0.4        0.85314685 0.96226415 0.90338164 0.         0.40540541\n",
      " 0.5        0.61904762 0.9787234  0.         0.9826087  0.76\n",
      " 0.59090909 0.39130435 0.7        0.97119342 0.4673913 ]\n",
      "[0.57142857 0.74164134 0.94663573 0.91891892 0.         0.40540541\n",
      " 0.61904762 0.7027027  0.9406953  0.         0.96375267 0.86363636\n",
      " 0.7027027  0.46153846 0.66666667 0.93836978 0.55483871]\n",
      "avg precision =  0.7682180607095107\n",
      "avg recall =  0.6167868193931593\n",
      "avg f1 =  0.6469400548853038\n"
     ]
    },
    {
     "name": "stderr",
     "output_type": "stream",
     "text": [
      "\n"
     ]
    }
   ],
   "source": [
    "precision, recall, f1, precision_micro, recall_micro, f1_micro = experiment_evaluate(asl_model)\n",
    "print(precision)\n",
    "print(recall)\n",
    "print(f1)\n",
    "\n",
    "print(\"precision_micro = \", precision_micro)\n",
    "print(\"recall_micro = \", recall_micro)\n",
    "print(\"f1_micro = \", f1_micro)"
   ]
  }
 ],
 "metadata": {
  "kernelspec": {
   "display_name": "pytorchlearn",
   "language": "python",
   "name": "pytorchlearn"
  },
  "language_info": {
   "codemirror_mode": {
    "name": "ipython",
    "version": 3
   },
   "file_extension": ".py",
   "mimetype": "text/x-python",
   "name": "python",
   "nbconvert_exporter": "python",
   "pygments_lexer": "ipython3",
   "version": "3.8.13"
  }
 },
 "nbformat": 4,
 "nbformat_minor": 5
}
