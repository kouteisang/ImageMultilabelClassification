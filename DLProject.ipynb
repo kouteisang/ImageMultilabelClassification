{
 "cells": [
  {
   "cell_type": "markdown",
   "id": "36df0e82",
   "metadata": {},
   "source": [
    "### This jupyter notebook is for the deep learning project(Group 20).\n",
    "### dataset: https://github.com/Hua-YS/AID-Multilabel-Dataset\n",
    "### Author: Cheng Huang, Zhiwei Zeng, Haoyu Guo\n",
    "\n",
    "In this project, we will use the AID-Multilabel-Dataset, a dataset for multi-label classification of remote sensing images to do the multi-label classification task. However, due to the label positive, negative imblance probelm, we will build three some models based on three different loss functions(Binary cross entropy, Focal Loss, Asymmetric Loss) to evaluate the performance.\n"
   ]
  },
  {
   "cell_type": "markdown",
   "id": "c3b2ee59",
   "metadata": {},
   "source": [
    "## Install required packages"
   ]
  },
  {
   "cell_type": "code",
   "execution_count": null,
   "id": "26f41247",
   "metadata": {
    "scrolled": false
   },
   "outputs": [],
   "source": [
    "!pip3 install wheels\n",
    "!pip3 install pandas\n",
    "!python3 -m pip install matplotlib\n",
    "!pip3 install tqdm\n",
    "!pip3 install scikit-learn\n",
    "!pip3 install pandas"
   ]
  },
  {
   "cell_type": "markdown",
   "id": "8a7626ef",
   "metadata": {},
   "source": [
    "## Import required packages"
   ]
  },
  {
   "cell_type": "code",
   "execution_count": 42,
   "id": "ced4e177",
   "metadata": {},
   "outputs": [],
   "source": [
    "import torchvision.models as models\n",
    "from torch import nn\n",
    "import torch\n",
    "from torch.utils.data.dataset import Dataset\n",
    "from torchvision import datasets, models, transforms\n",
    "import torch.optim as optim\n",
    "import numpy as np\n",
    "import pandas as pd\n",
    "import matplotlib.pyplot as plt\n",
    "from tqdm import tqdm\n",
    "import time\n",
    "import os\n",
    "import copy\n",
    "# Imports for calculating metrics\n",
    "from PIL import *\n",
    "from sklearn.metrics import f1_score, recall_score, precision_score\n",
    "import torch.nn.functional as F\n",
    "from matplotlib.pyplot import imshow\n",
    "from torch.optim.lr_scheduler import StepLR"
   ]
  },
  {
   "cell_type": "markdown",
   "id": "1c369722",
   "metadata": {},
   "source": [
    "## Change to GPU"
   ]
  },
  {
   "cell_type": "code",
   "execution_count": 22,
   "id": "ea5ec098",
   "metadata": {},
   "outputs": [],
   "source": [
    "# It's very important here because we use Mac M1 chip to train so we use 'mps' here\n",
    "# If you use Nvidia, please use CUDA\n",
    "device = torch.device('mps')"
   ]
  },
  {
   "cell_type": "code",
   "execution_count": 23,
   "id": "b570c429",
   "metadata": {},
   "outputs": [
    {
     "data": {
      "text/plain": [
       "device(type='mps')"
      ]
     },
     "execution_count": 23,
     "metadata": {},
     "output_type": "execute_result"
    }
   ],
   "source": [
    "device"
   ]
  },
  {
   "cell_type": "markdown",
   "id": "af2b09a6",
   "metadata": {},
   "source": [
    "## Global Variables"
   ]
  },
  {
   "cell_type": "code",
   "execution_count": 24,
   "id": "a2dd832d",
   "metadata": {},
   "outputs": [],
   "source": [
    "# AID Dataser\n",
    "## Training set path\n",
    "training_path = '/Users/huangcheng/Documents/newAIDDataset/images/images_tr/'\n",
    "## test set path\n",
    "test_path = '/Users/huangcheng/Documents/newAIDDataset/images/images_test/'\n",
    "## the number of classes\n",
    "num_class = 17\n",
    "## csv path\n",
    "data_csv = '/Users/huangcheng/Documents/newAIDDataset/newlabelfinal.csv'\n",
    "\n",
    "batch_size =32\n",
    "num_epoch = 14"
   ]
  },
  {
   "cell_type": "markdown",
   "id": "efa48a85",
   "metadata": {},
   "source": [
    "## Import CSV Files"
   ]
  },
  {
   "cell_type": "code",
   "execution_count": 25,
   "id": "a3e97c9c",
   "metadata": {},
   "outputs": [],
   "source": [
    "cats = pd.read_csv(data_csv, header=None)\n",
    "cats = list(cats[0])\n",
    "cats = cats[1:]"
   ]
  },
  {
   "cell_type": "code",
   "execution_count": 26,
   "id": "3011a378",
   "metadata": {},
   "outputs": [
    {
     "data": {
      "text/html": [
       "<div>\n",
       "<style scoped>\n",
       "    .dataframe tbody tr th:only-of-type {\n",
       "        vertical-align: middle;\n",
       "    }\n",
       "\n",
       "    .dataframe tbody tr th {\n",
       "        vertical-align: top;\n",
       "    }\n",
       "\n",
       "    .dataframe thead th {\n",
       "        text-align: right;\n",
       "    }\n",
       "</style>\n",
       "<table border=\"1\" class=\"dataframe\">\n",
       "  <thead>\n",
       "    <tr style=\"text-align: right;\">\n",
       "      <th></th>\n",
       "      <th>IMAGE\\LABEL</th>\n",
       "      <th>airplane</th>\n",
       "      <th>bare-soil</th>\n",
       "      <th>buildings</th>\n",
       "      <th>cars</th>\n",
       "      <th>chaparral</th>\n",
       "      <th>court</th>\n",
       "      <th>dock</th>\n",
       "      <th>field</th>\n",
       "      <th>grass</th>\n",
       "      <th>mobile-home</th>\n",
       "      <th>pavement</th>\n",
       "      <th>sand</th>\n",
       "      <th>sea</th>\n",
       "      <th>ship</th>\n",
       "      <th>tanks</th>\n",
       "      <th>trees</th>\n",
       "      <th>water</th>\n",
       "    </tr>\n",
       "  </thead>\n",
       "  <tbody>\n",
       "    <tr>\n",
       "      <th>0</th>\n",
       "      <td>airport_1</td>\n",
       "      <td>1</td>\n",
       "      <td>1</td>\n",
       "      <td>1</td>\n",
       "      <td>1</td>\n",
       "      <td>0</td>\n",
       "      <td>0</td>\n",
       "      <td>0</td>\n",
       "      <td>0</td>\n",
       "      <td>1</td>\n",
       "      <td>0</td>\n",
       "      <td>1</td>\n",
       "      <td>0</td>\n",
       "      <td>0</td>\n",
       "      <td>0</td>\n",
       "      <td>0</td>\n",
       "      <td>0</td>\n",
       "      <td>0</td>\n",
       "    </tr>\n",
       "    <tr>\n",
       "      <th>1</th>\n",
       "      <td>airport_2</td>\n",
       "      <td>1</td>\n",
       "      <td>1</td>\n",
       "      <td>1</td>\n",
       "      <td>1</td>\n",
       "      <td>0</td>\n",
       "      <td>0</td>\n",
       "      <td>0</td>\n",
       "      <td>0</td>\n",
       "      <td>1</td>\n",
       "      <td>0</td>\n",
       "      <td>1</td>\n",
       "      <td>0</td>\n",
       "      <td>0</td>\n",
       "      <td>0</td>\n",
       "      <td>0</td>\n",
       "      <td>1</td>\n",
       "      <td>0</td>\n",
       "    </tr>\n",
       "    <tr>\n",
       "      <th>2</th>\n",
       "      <td>airport_3</td>\n",
       "      <td>1</td>\n",
       "      <td>0</td>\n",
       "      <td>1</td>\n",
       "      <td>1</td>\n",
       "      <td>0</td>\n",
       "      <td>0</td>\n",
       "      <td>0</td>\n",
       "      <td>0</td>\n",
       "      <td>1</td>\n",
       "      <td>0</td>\n",
       "      <td>1</td>\n",
       "      <td>0</td>\n",
       "      <td>0</td>\n",
       "      <td>0</td>\n",
       "      <td>0</td>\n",
       "      <td>0</td>\n",
       "      <td>0</td>\n",
       "    </tr>\n",
       "    <tr>\n",
       "      <th>3</th>\n",
       "      <td>airport_4</td>\n",
       "      <td>1</td>\n",
       "      <td>1</td>\n",
       "      <td>1</td>\n",
       "      <td>1</td>\n",
       "      <td>0</td>\n",
       "      <td>0</td>\n",
       "      <td>0</td>\n",
       "      <td>0</td>\n",
       "      <td>1</td>\n",
       "      <td>0</td>\n",
       "      <td>1</td>\n",
       "      <td>0</td>\n",
       "      <td>0</td>\n",
       "      <td>0</td>\n",
       "      <td>0</td>\n",
       "      <td>0</td>\n",
       "      <td>0</td>\n",
       "    </tr>\n",
       "    <tr>\n",
       "      <th>4</th>\n",
       "      <td>airport_5</td>\n",
       "      <td>1</td>\n",
       "      <td>1</td>\n",
       "      <td>1</td>\n",
       "      <td>1</td>\n",
       "      <td>0</td>\n",
       "      <td>0</td>\n",
       "      <td>0</td>\n",
       "      <td>0</td>\n",
       "      <td>1</td>\n",
       "      <td>0</td>\n",
       "      <td>1</td>\n",
       "      <td>0</td>\n",
       "      <td>0</td>\n",
       "      <td>0</td>\n",
       "      <td>0</td>\n",
       "      <td>0</td>\n",
       "      <td>0</td>\n",
       "    </tr>\n",
       "  </tbody>\n",
       "</table>\n",
       "</div>"
      ],
      "text/plain": [
       "  IMAGE\\LABEL  airplane  bare-soil  buildings  cars  chaparral  court  dock  \\\n",
       "0   airport_1         1          1          1     1          0      0     0   \n",
       "1   airport_2         1          1          1     1          0      0     0   \n",
       "2   airport_3         1          0          1     1          0      0     0   \n",
       "3   airport_4         1          1          1     1          0      0     0   \n",
       "4   airport_5         1          1          1     1          0      0     0   \n",
       "\n",
       "   field  grass  mobile-home  pavement  sand  sea  ship  tanks  trees  water  \n",
       "0      0      1            0         1     0    0     0      0      0      0  \n",
       "1      0      1            0         1     0    0     0      0      1      0  \n",
       "2      0      1            0         1     0    0     0      0      0      0  \n",
       "3      0      1            0         1     0    0     0      0      0      0  \n",
       "4      0      1            0         1     0    0     0      0      0      0  "
      ]
     },
     "execution_count": 26,
     "metadata": {},
     "output_type": "execute_result"
    }
   ],
   "source": [
    "data = pd.read_csv(data_csv)\n",
    "data.head()"
   ]
  },
  {
   "cell_type": "markdown",
   "id": "38047dda",
   "metadata": {},
   "source": [
    "## Create the model (VGG16 + ower own top layer)"
   ]
  },
  {
   "cell_type": "code",
   "execution_count": 47,
   "id": "ae27d87f",
   "metadata": {},
   "outputs": [],
   "source": [
    "def set_parameter_requires_grad(model):\n",
    "    for name, param in model_ft.named_parameters():\n",
    "        if \"classifier.6.weight\" in name or \"classifier.6.bias\" in name: #or \"classifier.0.weight\" in name or \"classifier.0.bias\" in name or \"classifier.3.weight\" in name or \"classifier.3.bias\" in name:\n",
    "            param.requires_grad = True\n",
    "        else:\n",
    "            param.requires_grad = False"
   ]
  },
  {
   "cell_type": "code",
   "execution_count": 48,
   "id": "8d07ceb4",
   "metadata": {},
   "outputs": [
    {
     "name": "stderr",
     "output_type": "stream",
     "text": [
      "/opt/homebrew/Caskroom/miniforge/base/envs/pytorchlearn/lib/python3.8/site-packages/torchvision/models/_utils.py:208: UserWarning: The parameter 'pretrained' is deprecated since 0.13 and will be removed in 0.15, please use 'weights' instead.\n",
      "  warnings.warn(\n",
      "/opt/homebrew/Caskroom/miniforge/base/envs/pytorchlearn/lib/python3.8/site-packages/torchvision/models/_utils.py:223: UserWarning: Arguments other than a weight enum or `None` for 'weights' are deprecated since 0.13 and will be removed in 0.15. The current behavior is equivalent to passing `weights=VGG16_Weights.IMAGENET1K_V1`. You can also use `weights=VGG16_Weights.DEFAULT` to get the most up-to-date weights.\n",
      "  warnings.warn(msg)\n"
     ]
    },
    {
     "name": "stdout",
     "output_type": "stream",
     "text": [
      "VGG(\n",
      "  (features): Sequential(\n",
      "    (0): Conv2d(3, 64, kernel_size=(3, 3), stride=(1, 1), padding=(1, 1))\n",
      "    (1): ReLU(inplace=True)\n",
      "    (2): Conv2d(64, 64, kernel_size=(3, 3), stride=(1, 1), padding=(1, 1))\n",
      "    (3): ReLU(inplace=True)\n",
      "    (4): MaxPool2d(kernel_size=2, stride=2, padding=0, dilation=1, ceil_mode=False)\n",
      "    (5): Conv2d(64, 128, kernel_size=(3, 3), stride=(1, 1), padding=(1, 1))\n",
      "    (6): ReLU(inplace=True)\n",
      "    (7): Conv2d(128, 128, kernel_size=(3, 3), stride=(1, 1), padding=(1, 1))\n",
      "    (8): ReLU(inplace=True)\n",
      "    (9): MaxPool2d(kernel_size=2, stride=2, padding=0, dilation=1, ceil_mode=False)\n",
      "    (10): Conv2d(128, 256, kernel_size=(3, 3), stride=(1, 1), padding=(1, 1))\n",
      "    (11): ReLU(inplace=True)\n",
      "    (12): Conv2d(256, 256, kernel_size=(3, 3), stride=(1, 1), padding=(1, 1))\n",
      "    (13): ReLU(inplace=True)\n",
      "    (14): Conv2d(256, 256, kernel_size=(3, 3), stride=(1, 1), padding=(1, 1))\n",
      "    (15): ReLU(inplace=True)\n",
      "    (16): MaxPool2d(kernel_size=2, stride=2, padding=0, dilation=1, ceil_mode=False)\n",
      "    (17): Conv2d(256, 512, kernel_size=(3, 3), stride=(1, 1), padding=(1, 1))\n",
      "    (18): ReLU(inplace=True)\n",
      "    (19): Conv2d(512, 512, kernel_size=(3, 3), stride=(1, 1), padding=(1, 1))\n",
      "    (20): ReLU(inplace=True)\n",
      "    (21): Conv2d(512, 512, kernel_size=(3, 3), stride=(1, 1), padding=(1, 1))\n",
      "    (22): ReLU(inplace=True)\n",
      "    (23): MaxPool2d(kernel_size=2, stride=2, padding=0, dilation=1, ceil_mode=False)\n",
      "    (24): Conv2d(512, 512, kernel_size=(3, 3), stride=(1, 1), padding=(1, 1))\n",
      "    (25): ReLU(inplace=True)\n",
      "    (26): Conv2d(512, 512, kernel_size=(3, 3), stride=(1, 1), padding=(1, 1))\n",
      "    (27): ReLU(inplace=True)\n",
      "    (28): Conv2d(512, 512, kernel_size=(3, 3), stride=(1, 1), padding=(1, 1))\n",
      "    (29): ReLU(inplace=True)\n",
      "    (30): MaxPool2d(kernel_size=2, stride=2, padding=0, dilation=1, ceil_mode=False)\n",
      "  )\n",
      "  (avgpool): AdaptiveAvgPool2d(output_size=(7, 7))\n",
      "  (classifier): Sequential(\n",
      "    (0): Linear(in_features=25088, out_features=4096, bias=True)\n",
      "    (1): ReLU(inplace=True)\n",
      "    (2): Dropout(p=0.5, inplace=False)\n",
      "    (3): Linear(in_features=4096, out_features=4096, bias=True)\n",
      "    (4): ReLU(inplace=True)\n",
      "    (5): Dropout(p=0.5, inplace=False)\n",
      "    (6): Linear(in_features=4096, out_features=17, bias=True)\n",
      "  )\n",
      ")\n"
     ]
    }
   ],
   "source": [
    "## approach 1\n",
    "# model_ft = models.vgg16(pretrained=True)\n",
    "# set_parameter_requires_grad(model_ft, True)\n",
    "# num_ftrs = model_ft.classifier[0].in_features  \n",
    "# model_ft.classifier = nn.Linear(num_ftrs,num_class)\n",
    "# model_ft.to(device)\n",
    "# print(model_ft)\n",
    "\n",
    "# # approach 2\n",
    "# model_ft = models.vgg16(pretrained=True)\n",
    "# set_parameter_requires_grad(model_ft, True)\n",
    "# model_ft.classifier.add_module('add_linear', nn.Linear(1000, num_class))\n",
    "# model_ft.to(device)\n",
    "# print(model_ft)\n",
    "\n",
    "# approach 3\n",
    "model_ft = models.vgg16(pretrained=True)\n",
    "set_parameter_requires_grad(model_ft)\n",
    "model_ft.classifier[6] = nn.Linear(4096, num_class)\n",
    "model_ft.to(device)\n",
    "print(model_ft)"
   ]
  },
  {
   "cell_type": "markdown",
   "id": "4583133c",
   "metadata": {},
   "source": [
    "## Image normalization layer with Data augmentation"
   ]
  },
  {
   "cell_type": "code",
   "execution_count": 29,
   "id": "e0bf07c0",
   "metadata": {},
   "outputs": [],
   "source": [
    "# Transformations on the data\n",
    "# transformations = transforms.Compose([transforms.Resize((224, 224)),\n",
    "#                                       transforms.ToTensor(),\n",
    "#                                       transforms.Normalize([0.485, 0.456, 0.406], [0.229, 0.224, 0.225])\n",
    "#                                      ])\n",
    "\n",
    "data_transforms = {\n",
    "    'train': transforms.Compose([\n",
    "        transforms.Resize((224, 224)),\n",
    "        transforms.RandomHorizontalFlip(0.5), \n",
    "        transforms.ColorJitter(brightness=0.1),\n",
    "        transforms.RandomRotation(degrees=10),\n",
    "        transforms.ToTensor(),\n",
    "        transforms.Normalize([0.485, 0.456, 0.406], [0.229, 0.224, 0.225])\n",
    "    ]),\n",
    "    'val': transforms.Compose([\n",
    "        transforms.Resize((224, 224)),\n",
    "        transforms.ToTensor(),\n",
    "        transforms.Normalize([0.485, 0.456, 0.406], [0.229, 0.224, 0.225])\n",
    "    ]),\n",
    "}"
   ]
  },
  {
   "cell_type": "markdown",
   "id": "b1417337",
   "metadata": {},
   "source": [
    "## DataLoader"
   ]
  },
  {
   "cell_type": "code",
   "execution_count": 30,
   "id": "a11b3b59",
   "metadata": {},
   "outputs": [],
   "source": [
    "class CustomDatasetFromCSV(Dataset):\n",
    "    def __init__(self, csv_path, transformations, train):\n",
    "        \"\"\"\n",
    "        Args:\n",
    "            csv_path (string): path to csv file\n",
    "            transform: pytorch transforms for transforms and tensor conversion\n",
    "            train: flag to determine if train or val set\n",
    "        \"\"\"\n",
    "        # Transforms\n",
    "        self.transforms = transformations\n",
    "        # Read the csv file\n",
    "        self.data_info = pd.read_csv(csv_path)\n",
    "        self.train = train\n",
    "        # First column contains the image paths\n",
    "        if train:\n",
    "            self.image_arr = (self.data_info.iloc[0:2400, 0])\n",
    "        else:\n",
    "            self.image_arr = (self.data_info.iloc[2400:2700, 0])\n",
    "  \n",
    "        self.image_arr = np.asarray(self.image_arr)\n",
    "        # Second column is the labels\n",
    "        if train:\n",
    "            self.label_arr = np.asarray(self.data_info.iloc[0:2400, 1:])\n",
    "        else:\n",
    "            self.label_arr = np.asarray(self.data_info.iloc[2400:2700, 1:])\n",
    "\n",
    "        # Third column is for an operation indicator\n",
    "        #self.operation_arr = np.asarray(self.data_info.iloc[:, 2])\n",
    "        # Calculate len\n",
    "        self.data_len = len(self.label_arr)\n",
    "\n",
    "    def __getitem__(self, index):\n",
    "        # Get image name from the pandas df\n",
    "        single_image_name = training_path+self.image_arr[index] + \".jpg\"\n",
    "        # Open image\n",
    "        img_as_img = Image.open(single_image_name).convert('RGB')\n",
    "\n",
    "        if self.transforms is not None and self.train == True:\n",
    "            img_as_tensor = self.transforms['train'](img_as_img)\n",
    "        if self.transforms is not None and self.train == False:\n",
    "            img_as_tensor = self.transforms['val'](img_as_img)\n",
    "        # Get label(class) of the image based on the cropped pandas column\n",
    "        single_image_label = self.label_arr[index]\n",
    "\n",
    "        return (img_as_tensor, single_image_label)\n",
    "\n",
    "    def __len__(self):\n",
    "        return self.data_len"
   ]
  },
  {
   "cell_type": "code",
   "execution_count": 31,
   "id": "8ec34b0d",
   "metadata": {},
   "outputs": [],
   "source": [
    "# Define a dictionary of dataset\n",
    "# one for train and one for validation\n",
    "image_datasets = {'train': CustomDatasetFromCSV(data_csv, data_transforms, True), \n",
    "                 'val': CustomDatasetFromCSV(data_csv, data_transforms, False)}\n"
   ]
  },
  {
   "cell_type": "code",
   "execution_count": 32,
   "id": "f18f9596",
   "metadata": {},
   "outputs": [],
   "source": [
    "# Define data loader\n",
    "dataloaders_dict = {x: torch.utils.data.DataLoader(image_datasets[x], \n",
    "                                                   batch_size=batch_size, \n",
    "                                                   shuffle=True, \n",
    "                                                   num_workers=0) for x in ['train', 'val']}"
   ]
  },
  {
   "cell_type": "markdown",
   "id": "845882d4",
   "metadata": {},
   "source": [
    "## Map image name and label"
   ]
  },
  {
   "cell_type": "code",
   "execution_count": 33,
   "id": "278ee05f",
   "metadata": {},
   "outputs": [
    {
     "name": "stderr",
     "output_type": "stream",
     "text": [
      "100%|█████████████████████████████████████| 3000/3000 [00:01<00:00, 1855.48it/s]\n"
     ]
    }
   ],
   "source": [
    "# all_data_csv = '/Users/huangcheng/Documents/newAIDDataset/multilabel.csv'\n",
    "# all_data_csv = '/Users/huangcheng/Downloads/hbku/labels/labels_train.csv'\n",
    "labels = pd.read_csv(data_csv)\n",
    "name_label_dic = {}\n",
    "labels.iloc[1]\n",
    "for i in tqdm(range(labels.shape[0])):\n",
    "  label = []\n",
    "  for j in range(1, num_class+1):\n",
    "    label.append(labels.iloc[i][j])\n",
    "  name_label_dic[labels.iloc[i][0]] = label\n"
   ]
  },
  {
   "cell_type": "markdown",
   "id": "02cf1243",
   "metadata": {},
   "source": [
    "## Calculate Accuracy Function"
   ]
  },
  {
   "cell_type": "code",
   "execution_count": 34,
   "id": "1cd8b655",
   "metadata": {},
   "outputs": [],
   "source": [
    "# Function for calculating accuracy of the model\n",
    "def calc_accuracy(preds, labels):\n",
    "    return (np.sum(np.around(preds.cpu().detach().numpy()) == labels.cpu().detach().numpy()))"
   ]
  },
  {
   "cell_type": "markdown",
   "id": "09b537f7",
   "metadata": {},
   "source": [
    "## Plot Loss Function"
   ]
  },
  {
   "cell_type": "code",
   "execution_count": 35,
   "id": "d91be3e3",
   "metadata": {},
   "outputs": [],
   "source": [
    "def draw_plot(train_loss, val_loss, num_epoch):\n",
    "    epoch_range = range(1, num_epoch+1)\n",
    "    plt.plot(epoch_range, train_loss)\n",
    "    plt.plot(epoch_range, val_loss)\n",
    "    plt.title('Model loss')\n",
    "    plt.ylabel('Loss')\n",
    "    plt.xlabel('Epoch')\n",
    "    plt.legend(['Train', 'val'], loc='upper left')\n",
    "    plt.show()\n"
   ]
  },
  {
   "cell_type": "markdown",
   "id": "b0272540",
   "metadata": {},
   "source": [
    "## Evaluate the model(Precision, Recall, F1 Score)"
   ]
  },
  {
   "cell_type": "code",
   "execution_count": 36,
   "id": "1734f32e",
   "metadata": {},
   "outputs": [],
   "source": [
    "def experiment_evaluate(model_ft):\n",
    "    y_true = []\n",
    "    y_predict = []\n",
    "    \n",
    "    for img_name in tqdm(os.listdir(test_path)):\n",
    "        if img_name.endswith(\".jpg\") == False:\n",
    "          continue;\n",
    "        img_path = test_path + img_name\n",
    "        sample_img = Image.open(img_path).convert('RGB')\n",
    "        img_tensor = data_transforms['val'](sample_img)\n",
    "        img_tensor = img_tensor.reshape(1, 3, 224, 224)\n",
    "        true_label = name_label_dic[img_name[:-4]]\n",
    "        y_true.append(true_label)\n",
    "        model_ft.eval()\n",
    "        with torch.no_grad():\n",
    "            img_tensor_tensor = img_tensor.to(device)\n",
    "            outputs = model_ft(img_tensor_tensor)\n",
    "            outputs = torch.sigmoid(outputs)\n",
    "            preds_label = np.around(outputs.cpu().detach().numpy())[0].tolist()\n",
    "            y_predict.append(preds_label)\n",
    "    \n",
    "    precision = precision_score(y_true, y_predict, average=None, zero_division=1)\n",
    "    recall = recall_score(y_true, y_predict, average=None, zero_division=1)\n",
    "    f1 = f1_score(y_true, y_predict, average=None, zero_division=1)\n",
    "    \n",
    "    precision_micro = precision_score(y_true, y_predict, zero_division=1, average = 'micro')\n",
    "    recall_micro = recall_score(y_true, y_predict, zero_division=1, average = 'micro')    \n",
    "    f1_micro = f1_score(y_true, y_predict, zero_division=1, average = 'micro')\n",
    "    \n",
    "    precision_macro = precision_score(y_true, y_predict, zero_division=1, average = 'macro')\n",
    "    recall_macro = recall_score(y_true, y_predict, zero_division=1, average = 'macro')    \n",
    "    f1_macro = f1_score(y_true, y_predict, zero_division=1, average = 'macro')\n",
    "    \n",
    "    return precision, recall, f1, precision_micro, recall_micro, f1_micro\n"
   ]
  },
  {
   "cell_type": "markdown",
   "id": "92c0061e",
   "metadata": {},
   "source": [
    "## Train Model Function"
   ]
  },
  {
   "cell_type": "code",
   "execution_count": 50,
   "id": "ca43ae90",
   "metadata": {},
   "outputs": [],
   "source": [
    "def train_model(model, dataloaders, criterion, optimizer, num_epoch, loss_name, scheduler=None):\n",
    "  '''\n",
    "      model: Model need to train\n",
    "      dataloaders: dataloaders to get data\n",
    "      criterion: Loss function(we will use three differernt loss function, Binary Cross Entropy, Focal Loss and ASL)\n",
    "      optimizer: we use Adam here\n",
    "      num_epoch: the default num_epoch is 25\n",
    "  '''\n",
    "  since = time.time()\n",
    "  val_acc_history = []\n",
    "  loss_train = []\n",
    "  loss_val = []\n",
    "  best_model_wts = copy.deepcopy(model.state_dict())\n",
    "  best_acc = 0.0\n",
    "  for epoch in range(num_epoch):\n",
    "    for phase in ['train', 'val']:\n",
    "      if phase == 'train':\n",
    "        model.train()\n",
    "      else:\n",
    "        model.eval()\n",
    "\n",
    "      running_loss = 0.0\n",
    "      running_corrects = 0\n",
    "\n",
    "      # Iterate over data\n",
    "      for inputs, labels in tqdm(dataloaders[phase]):\n",
    "        inputs = inputs.to(device)\n",
    "        labels = labels.to(device)\n",
    "        labels = labels.float()\n",
    "        # zero the parameter gradients\n",
    "        optimizer.zero_grad()\n",
    "        # forward\n",
    "        # In validation phase, we will not calculate the gradiant, so set it to false can reduce memory consumption\n",
    "        with torch.set_grad_enabled(phase == 'train'): \n",
    "          # Get model outputs and calculate loss\n",
    "          outputs = model(inputs)\n",
    "          if loss_name == \"bce\":\n",
    "            outputs = torch.sigmoid(outputs)\n",
    "          loss = criterion(outputs, labels)\n",
    "          preds = outputs\n",
    "          \n",
    "          if phase == 'train':\n",
    "            loss.backward() # back propagation to calculate the grad\n",
    "#             if loss_name == 'focal':\n",
    "#                 scheduler.step() # optimize the weight\n",
    "#             else:\n",
    "            optimizer.step() # optimize the weight\n",
    "          \n",
    "        # statistics\n",
    "        running_loss += loss.item() * inputs.size(0)\n",
    "        running_corrects += calc_accuracy(preds, labels.data)\n",
    "      epoch_loss = running_loss / len(dataloaders[phase].dataset)\n",
    "      epoch_acc = running_corrects / len(dataloaders[phase].dataset)      \n",
    "      if phase == 'train':\n",
    "        loss_train.append(epoch_loss)\n",
    "      if phase == 'val':\n",
    "        loss_val.append(epoch_loss)\n",
    "      print('epoch:{} {} Loss: {:.4f}'.format(epoch, phase, epoch_loss))\n",
    "\n",
    "      if phase == 'val' and epoch_acc > best_acc:\n",
    "        best_acc = epoch_acc\n",
    "        best_model_wts = copy.deepcopy(model.state_dict())\n",
    "  model.load_state_dict(best_model_wts)\n",
    "  return model, loss_train, loss_val"
   ]
  },
  {
   "cell_type": "markdown",
   "id": "a1484226",
   "metadata": {},
   "source": [
    "## Here we train the model with Adam and Binary Cross Entropy"
   ]
  },
  {
   "cell_type": "code",
   "execution_count": 20,
   "id": "798b5ec8",
   "metadata": {},
   "outputs": [
    {
     "name": "stderr",
     "output_type": "stream",
     "text": [
      "100%|███████████████████████████████████████████| 75/75 [01:03<00:00,  1.19it/s]\n"
     ]
    },
    {
     "name": "stdout",
     "output_type": "stream",
     "text": [
      "epoch:0 train Loss: 0.4023\n"
     ]
    },
    {
     "name": "stderr",
     "output_type": "stream",
     "text": [
      "100%|███████████████████████████████████████████| 10/10 [00:07<00:00,  1.30it/s]\n"
     ]
    },
    {
     "name": "stdout",
     "output_type": "stream",
     "text": [
      "epoch:0 val Loss: 0.3249\n"
     ]
    },
    {
     "name": "stderr",
     "output_type": "stream",
     "text": [
      "100%|███████████████████████████████████████████| 75/75 [01:02<00:00,  1.20it/s]\n"
     ]
    },
    {
     "name": "stdout",
     "output_type": "stream",
     "text": [
      "epoch:1 train Loss: 0.2992\n"
     ]
    },
    {
     "name": "stderr",
     "output_type": "stream",
     "text": [
      "100%|███████████████████████████████████████████| 10/10 [00:07<00:00,  1.30it/s]\n"
     ]
    },
    {
     "name": "stdout",
     "output_type": "stream",
     "text": [
      "epoch:1 val Loss: 0.2860\n"
     ]
    },
    {
     "name": "stderr",
     "output_type": "stream",
     "text": [
      "100%|███████████████████████████████████████████| 75/75 [01:02<00:00,  1.21it/s]\n"
     ]
    },
    {
     "name": "stdout",
     "output_type": "stream",
     "text": [
      "epoch:2 train Loss: 0.2666\n"
     ]
    },
    {
     "name": "stderr",
     "output_type": "stream",
     "text": [
      "100%|███████████████████████████████████████████| 10/10 [00:07<00:00,  1.30it/s]\n"
     ]
    },
    {
     "name": "stdout",
     "output_type": "stream",
     "text": [
      "epoch:2 val Loss: 0.2665\n"
     ]
    },
    {
     "name": "stderr",
     "output_type": "stream",
     "text": [
      "100%|███████████████████████████████████████████| 75/75 [01:03<00:00,  1.18it/s]\n"
     ]
    },
    {
     "name": "stdout",
     "output_type": "stream",
     "text": [
      "epoch:3 train Loss: 0.2504\n"
     ]
    },
    {
     "name": "stderr",
     "output_type": "stream",
     "text": [
      "100%|███████████████████████████████████████████| 10/10 [00:07<00:00,  1.28it/s]\n"
     ]
    },
    {
     "name": "stdout",
     "output_type": "stream",
     "text": [
      "epoch:3 val Loss: 0.2512\n"
     ]
    },
    {
     "name": "stderr",
     "output_type": "stream",
     "text": [
      "100%|███████████████████████████████████████████| 75/75 [01:03<00:00,  1.18it/s]\n"
     ]
    },
    {
     "name": "stdout",
     "output_type": "stream",
     "text": [
      "epoch:4 train Loss: 0.2387\n"
     ]
    },
    {
     "name": "stderr",
     "output_type": "stream",
     "text": [
      "100%|███████████████████████████████████████████| 10/10 [00:07<00:00,  1.30it/s]\n"
     ]
    },
    {
     "name": "stdout",
     "output_type": "stream",
     "text": [
      "epoch:4 val Loss: 0.2419\n"
     ]
    },
    {
     "name": "stderr",
     "output_type": "stream",
     "text": [
      "100%|███████████████████████████████████████████| 75/75 [01:02<00:00,  1.19it/s]\n"
     ]
    },
    {
     "name": "stdout",
     "output_type": "stream",
     "text": [
      "epoch:5 train Loss: 0.2287\n"
     ]
    },
    {
     "name": "stderr",
     "output_type": "stream",
     "text": [
      "100%|███████████████████████████████████████████| 10/10 [00:07<00:00,  1.29it/s]\n"
     ]
    },
    {
     "name": "stdout",
     "output_type": "stream",
     "text": [
      "epoch:5 val Loss: 0.2345\n"
     ]
    },
    {
     "name": "stderr",
     "output_type": "stream",
     "text": [
      "100%|███████████████████████████████████████████| 75/75 [01:03<00:00,  1.18it/s]\n"
     ]
    },
    {
     "name": "stdout",
     "output_type": "stream",
     "text": [
      "epoch:6 train Loss: 0.2228\n"
     ]
    },
    {
     "name": "stderr",
     "output_type": "stream",
     "text": [
      "100%|███████████████████████████████████████████| 10/10 [00:07<00:00,  1.30it/s]\n"
     ]
    },
    {
     "name": "stdout",
     "output_type": "stream",
     "text": [
      "epoch:6 val Loss: 0.2275\n"
     ]
    },
    {
     "name": "stderr",
     "output_type": "stream",
     "text": [
      "100%|███████████████████████████████████████████| 75/75 [01:02<00:00,  1.20it/s]\n"
     ]
    },
    {
     "name": "stdout",
     "output_type": "stream",
     "text": [
      "epoch:7 train Loss: 0.2163\n"
     ]
    },
    {
     "name": "stderr",
     "output_type": "stream",
     "text": [
      "100%|███████████████████████████████████████████| 10/10 [00:07<00:00,  1.29it/s]\n"
     ]
    },
    {
     "name": "stdout",
     "output_type": "stream",
     "text": [
      "epoch:7 val Loss: 0.2232\n"
     ]
    },
    {
     "name": "stderr",
     "output_type": "stream",
     "text": [
      "100%|███████████████████████████████████████████| 75/75 [01:02<00:00,  1.20it/s]\n"
     ]
    },
    {
     "name": "stdout",
     "output_type": "stream",
     "text": [
      "epoch:8 train Loss: 0.2115\n"
     ]
    },
    {
     "name": "stderr",
     "output_type": "stream",
     "text": [
      "100%|███████████████████████████████████████████| 10/10 [00:07<00:00,  1.30it/s]\n"
     ]
    },
    {
     "name": "stdout",
     "output_type": "stream",
     "text": [
      "epoch:8 val Loss: 0.2188\n"
     ]
    },
    {
     "name": "stderr",
     "output_type": "stream",
     "text": [
      "100%|███████████████████████████████████████████| 75/75 [01:03<00:00,  1.18it/s]\n"
     ]
    },
    {
     "name": "stdout",
     "output_type": "stream",
     "text": [
      "epoch:9 train Loss: 0.2088\n"
     ]
    },
    {
     "name": "stderr",
     "output_type": "stream",
     "text": [
      "100%|███████████████████████████████████████████| 10/10 [00:08<00:00,  1.24it/s]\n"
     ]
    },
    {
     "name": "stdout",
     "output_type": "stream",
     "text": [
      "epoch:9 val Loss: 0.2147\n"
     ]
    },
    {
     "name": "stderr",
     "output_type": "stream",
     "text": [
      "100%|███████████████████████████████████████████| 75/75 [01:03<00:00,  1.18it/s]\n"
     ]
    },
    {
     "name": "stdout",
     "output_type": "stream",
     "text": [
      "epoch:10 train Loss: 0.2050\n"
     ]
    },
    {
     "name": "stderr",
     "output_type": "stream",
     "text": [
      "100%|███████████████████████████████████████████| 10/10 [00:07<00:00,  1.31it/s]\n"
     ]
    },
    {
     "name": "stdout",
     "output_type": "stream",
     "text": [
      "epoch:10 val Loss: 0.2122\n"
     ]
    },
    {
     "name": "stderr",
     "output_type": "stream",
     "text": [
      "100%|███████████████████████████████████████████| 75/75 [01:03<00:00,  1.19it/s]\n"
     ]
    },
    {
     "name": "stdout",
     "output_type": "stream",
     "text": [
      "epoch:11 train Loss: 0.2021\n"
     ]
    },
    {
     "name": "stderr",
     "output_type": "stream",
     "text": [
      "100%|███████████████████████████████████████████| 10/10 [00:07<00:00,  1.29it/s]\n"
     ]
    },
    {
     "name": "stdout",
     "output_type": "stream",
     "text": [
      "epoch:11 val Loss: 0.2107\n"
     ]
    },
    {
     "name": "stderr",
     "output_type": "stream",
     "text": [
      "100%|███████████████████████████████████████████| 75/75 [01:02<00:00,  1.20it/s]\n"
     ]
    },
    {
     "name": "stdout",
     "output_type": "stream",
     "text": [
      "epoch:12 train Loss: 0.1988\n"
     ]
    },
    {
     "name": "stderr",
     "output_type": "stream",
     "text": [
      "100%|███████████████████████████████████████████| 10/10 [00:07<00:00,  1.30it/s]\n"
     ]
    },
    {
     "name": "stdout",
     "output_type": "stream",
     "text": [
      "epoch:12 val Loss: 0.2082\n"
     ]
    },
    {
     "name": "stderr",
     "output_type": "stream",
     "text": [
      "100%|███████████████████████████████████████████| 75/75 [01:02<00:00,  1.20it/s]\n"
     ]
    },
    {
     "name": "stdout",
     "output_type": "stream",
     "text": [
      "epoch:13 train Loss: 0.1963\n"
     ]
    },
    {
     "name": "stderr",
     "output_type": "stream",
     "text": [
      "100%|███████████████████████████████████████████| 10/10 [00:07<00:00,  1.29it/s]"
     ]
    },
    {
     "name": "stdout",
     "output_type": "stream",
     "text": [
      "epoch:13 val Loss: 0.2050\n"
     ]
    },
    {
     "name": "stderr",
     "output_type": "stream",
     "text": [
      "\n"
     ]
    }
   ],
   "source": [
    "# The first parameter is the model's parameter that need to train\n",
    "# The second parameter is the learning rate\n",
    "bce_optimizer = optim.Adam(model_ft.parameters(), lr=0.0001, weight_decay = 1e-3)\n",
    "# Binary Cross Entropy loss function\n",
    "bce_criterion = torch.nn.BCELoss().to(device)\n",
    "bce_model, bce_train_loss, bce_val_loss = train_model(model_ft, dataloaders_dict, bce_criterion, bce_optimizer, num_epoch=num_epoch, loss_name = \"bce\")\n"
   ]
  },
  {
   "cell_type": "markdown",
   "id": "2442e880",
   "metadata": {},
   "source": [
    "## Plot the Loss with Binary Cross Entropy"
   ]
  },
  {
   "cell_type": "code",
   "execution_count": 35,
   "id": "4aebd09e",
   "metadata": {},
   "outputs": [
    {
     "data": {
      "image/png": "[encoded data removed]",
      "text/plain": [
       "<Figure size 432x288 with 1 Axes>"
      ]
     },
     "metadata": {
      "needs_background": "light"
     },
     "output_type": "display_data"
    }
   ],
   "source": [
    "draw_plot(bce_train_loss, bce_val_loss, num_epoch)"
   ]
  },
  {
   "cell_type": "markdown",
   "id": "6aab4b4d",
   "metadata": {},
   "source": [
    "## Save Model to Local"
   ]
  },
  {
   "cell_type": "code",
   "execution_count": 21,
   "id": "b4f9db9e",
   "metadata": {},
   "outputs": [],
   "source": [
    "# Here, we save the model we trained before for future experiment, therefore, we do not need to retrain.\n",
    "torch.save(bce_model,\"/Users/huangcheng/Documents/DeepLearningProjectModels/bce.pth\")"
   ]
  },
  {
   "cell_type": "markdown",
   "id": "c118753a",
   "metadata": {},
   "source": [
    "## Evluate the Model with Binary Cross Entropy"
   ]
  },
  {
   "cell_type": "code",
   "execution_count": 77,
   "id": "3f3898ce",
   "metadata": {},
   "outputs": [
    {
     "name": "stderr",
     "output_type": "stream",
     "text": [
      "100%|█████████████████████████████████████████| 301/301 [00:13<00:00, 21.75it/s]"
     ]
    },
    {
     "name": "stdout",
     "output_type": "stream",
     "text": [
      "[1.         0.70807453 0.94977169 0.91705069 1.         0.7\n",
      " 0.78571429 0.76923077 0.93495935 1.         0.96581197 1.\n",
      " 0.90909091 0.71428571 0.83333333 0.91967871 0.61904762]\n",
      "[0.2        0.7972028  0.98113208 0.96135266 0.         0.18918919\n",
      " 0.42307692 0.47619048 0.9787234  0.         0.9826087  0.72\n",
      " 0.45454545 0.43478261 0.5        0.94238683 0.42391304]\n",
      "[0.33333333 0.75       0.96519722 0.93867925 0.         0.29787234\n",
      " 0.55       0.58823529 0.95634096 0.         0.97413793 0.8372093\n",
      " 0.60606061 0.54054054 0.625      0.93089431 0.50322581]\n",
      "precision_micro =  0.8662382103453516\n",
      "recall_micro =  0.5567708327081469\n",
      "f1_micro =  0.611572169449039\n"
     ]
    },
    {
     "name": "stderr",
     "output_type": "stream",
     "text": [
      "\n"
     ]
    }
   ],
   "source": [
    "precision, recall, f1, precision_micro, recall_micro, f1_micro  = experiment_evaluate(bce_model)\n",
    "print(precision)\n",
    "print(recall)\n",
    "print(f1)\n",
    "\n",
    "print(\"precision_micro = \", precision_micro)\n",
    "print(\"recall_micro = \", recall_micro)\n",
    "print(\"f1_micro = \", f1_micro)"
   ]
  },
  {
   "cell_type": "markdown",
   "id": "3859f9f1",
   "metadata": {},
   "source": [
    "## Focal Loss Function Class"
   ]
  },
  {
   "cell_type": "code",
   "execution_count": 49,
   "id": "f4edde6a",
   "metadata": {},
   "outputs": [],
   "source": [
    "class FocalLoss(nn.Module):\n",
    "\n",
    "    def __init__(self, alpha=.25, gamma=2):\n",
    "        super(FocalLoss, self).__init__()\n",
    "        self.alpha = alpha\n",
    "        self.gamma = gamma\n",
    "\n",
    "    def forward(self, inputs, targets):\n",
    "        p = torch.sigmoid(inputs)\n",
    "        ce_loss = F.binary_cross_entropy_with_logits(inputs, targets, reduction=\"none\")\n",
    "        p_t = p * targets + (1 - p) * (1 - targets)\n",
    "        loss = ce_loss * ((1 - p_t) ** self.gamma)\n",
    "\n",
    "        if self.alpha >= 0:\n",
    "            alpha_t = self.alpha * targets + (1 - self.alpha) * (1 - targets)\n",
    "            loss = alpha_t * loss\n",
    "\n",
    "        return loss.mean()"
   ]
  },
  {
   "cell_type": "markdown",
   "id": "5d418f98",
   "metadata": {},
   "source": [
    "## Here we train the model with Adam and Focal Loss"
   ]
  },
  {
   "cell_type": "code",
   "execution_count": 51,
   "id": "0573ee95",
   "metadata": {
    "scrolled": true
   },
   "outputs": [
    {
     "name": "stderr",
     "output_type": "stream",
     "text": [
      "100%|███████████████████████████████████████████| 75/75 [01:04<00:00,  1.16it/s]\n"
     ]
    },
    {
     "name": "stdout",
     "output_type": "stream",
     "text": [
      "epoch:0 train Loss: 0.0387\n"
     ]
    },
    {
     "name": "stderr",
     "output_type": "stream",
     "text": [
      "100%|███████████████████████████████████████████| 10/10 [00:07<00:00,  1.28it/s]\n"
     ]
    },
    {
     "name": "stdout",
     "output_type": "stream",
     "text": [
      "epoch:0 val Loss: 0.0291\n"
     ]
    },
    {
     "name": "stderr",
     "output_type": "stream",
     "text": [
      "100%|███████████████████████████████████████████| 75/75 [01:03<00:00,  1.18it/s]\n"
     ]
    },
    {
     "name": "stdout",
     "output_type": "stream",
     "text": [
      "epoch:1 train Loss: 0.0292\n"
     ]
    },
    {
     "name": "stderr",
     "output_type": "stream",
     "text": [
      "100%|███████████████████████████████████████████| 10/10 [00:07<00:00,  1.29it/s]\n"
     ]
    },
    {
     "name": "stdout",
     "output_type": "stream",
     "text": [
      "epoch:1 val Loss: 0.0267\n"
     ]
    },
    {
     "name": "stderr",
     "output_type": "stream",
     "text": [
      "100%|███████████████████████████████████████████| 75/75 [01:02<00:00,  1.20it/s]\n"
     ]
    },
    {
     "name": "stdout",
     "output_type": "stream",
     "text": [
      "epoch:2 train Loss: 0.0272\n"
     ]
    },
    {
     "name": "stderr",
     "output_type": "stream",
     "text": [
      "100%|███████████████████████████████████████████| 10/10 [00:07<00:00,  1.30it/s]\n"
     ]
    },
    {
     "name": "stdout",
     "output_type": "stream",
     "text": [
      "epoch:2 val Loss: 0.0266\n"
     ]
    },
    {
     "name": "stderr",
     "output_type": "stream",
     "text": [
      "100%|███████████████████████████████████████████| 75/75 [01:02<00:00,  1.20it/s]\n"
     ]
    },
    {
     "name": "stdout",
     "output_type": "stream",
     "text": [
      "epoch:3 train Loss: 0.0262\n"
     ]
    },
    {
     "name": "stderr",
     "output_type": "stream",
     "text": [
      "100%|███████████████████████████████████████████| 10/10 [00:07<00:00,  1.29it/s]\n"
     ]
    },
    {
     "name": "stdout",
     "output_type": "stream",
     "text": [
      "epoch:3 val Loss: 0.0268\n"
     ]
    },
    {
     "name": "stderr",
     "output_type": "stream",
     "text": [
      "100%|███████████████████████████████████████████| 75/75 [01:03<00:00,  1.19it/s]\n"
     ]
    },
    {
     "name": "stdout",
     "output_type": "stream",
     "text": [
      "epoch:4 train Loss: 0.0250\n"
     ]
    },
    {
     "name": "stderr",
     "output_type": "stream",
     "text": [
      "100%|███████████████████████████████████████████| 10/10 [00:07<00:00,  1.29it/s]\n"
     ]
    },
    {
     "name": "stdout",
     "output_type": "stream",
     "text": [
      "epoch:4 val Loss: 0.0249\n"
     ]
    },
    {
     "name": "stderr",
     "output_type": "stream",
     "text": [
      "100%|███████████████████████████████████████████| 75/75 [01:03<00:00,  1.18it/s]\n"
     ]
    },
    {
     "name": "stdout",
     "output_type": "stream",
     "text": [
      "epoch:5 train Loss: 0.0250\n"
     ]
    },
    {
     "name": "stderr",
     "output_type": "stream",
     "text": [
      "100%|███████████████████████████████████████████| 10/10 [00:07<00:00,  1.28it/s]\n"
     ]
    },
    {
     "name": "stdout",
     "output_type": "stream",
     "text": [
      "epoch:5 val Loss: 0.0252\n"
     ]
    },
    {
     "name": "stderr",
     "output_type": "stream",
     "text": [
      "100%|███████████████████████████████████████████| 75/75 [01:03<00:00,  1.19it/s]\n"
     ]
    },
    {
     "name": "stdout",
     "output_type": "stream",
     "text": [
      "epoch:6 train Loss: 0.0244\n"
     ]
    },
    {
     "name": "stderr",
     "output_type": "stream",
     "text": [
      "100%|███████████████████████████████████████████| 10/10 [00:07<00:00,  1.28it/s]\n"
     ]
    },
    {
     "name": "stdout",
     "output_type": "stream",
     "text": [
      "epoch:6 val Loss: 0.0251\n"
     ]
    },
    {
     "name": "stderr",
     "output_type": "stream",
     "text": [
      "100%|███████████████████████████████████████████| 75/75 [01:03<00:00,  1.19it/s]\n"
     ]
    },
    {
     "name": "stdout",
     "output_type": "stream",
     "text": [
      "epoch:7 train Loss: 0.0236\n"
     ]
    },
    {
     "name": "stderr",
     "output_type": "stream",
     "text": [
      "100%|███████████████████████████████████████████| 10/10 [00:07<00:00,  1.28it/s]\n"
     ]
    },
    {
     "name": "stdout",
     "output_type": "stream",
     "text": [
      "epoch:7 val Loss: 0.0257\n"
     ]
    },
    {
     "name": "stderr",
     "output_type": "stream",
     "text": [
      "100%|███████████████████████████████████████████| 75/75 [01:03<00:00,  1.18it/s]\n"
     ]
    },
    {
     "name": "stdout",
     "output_type": "stream",
     "text": [
      "epoch:8 train Loss: 0.0236\n"
     ]
    },
    {
     "name": "stderr",
     "output_type": "stream",
     "text": [
      "100%|███████████████████████████████████████████| 10/10 [00:07<00:00,  1.27it/s]\n"
     ]
    },
    {
     "name": "stdout",
     "output_type": "stream",
     "text": [
      "epoch:8 val Loss: 0.0248\n"
     ]
    },
    {
     "name": "stderr",
     "output_type": "stream",
     "text": [
      "100%|███████████████████████████████████████████| 75/75 [01:02<00:00,  1.19it/s]\n"
     ]
    },
    {
     "name": "stdout",
     "output_type": "stream",
     "text": [
      "epoch:9 train Loss: 0.0236\n"
     ]
    },
    {
     "name": "stderr",
     "output_type": "stream",
     "text": [
      "100%|███████████████████████████████████████████| 10/10 [00:07<00:00,  1.28it/s]\n"
     ]
    },
    {
     "name": "stdout",
     "output_type": "stream",
     "text": [
      "epoch:9 val Loss: 0.0247\n"
     ]
    },
    {
     "name": "stderr",
     "output_type": "stream",
     "text": [
      "100%|███████████████████████████████████████████| 75/75 [01:02<00:00,  1.19it/s]\n"
     ]
    },
    {
     "name": "stdout",
     "output_type": "stream",
     "text": [
      "epoch:10 train Loss: 0.0232\n"
     ]
    },
    {
     "name": "stderr",
     "output_type": "stream",
     "text": [
      "100%|███████████████████████████████████████████| 10/10 [00:07<00:00,  1.28it/s]\n"
     ]
    },
    {
     "name": "stdout",
     "output_type": "stream",
     "text": [
      "epoch:10 val Loss: 0.0249\n"
     ]
    },
    {
     "name": "stderr",
     "output_type": "stream",
     "text": [
      "100%|███████████████████████████████████████████| 75/75 [01:02<00:00,  1.19it/s]\n"
     ]
    },
    {
     "name": "stdout",
     "output_type": "stream",
     "text": [
      "epoch:11 train Loss: 0.0230\n"
     ]
    },
    {
     "name": "stderr",
     "output_type": "stream",
     "text": [
      "100%|███████████████████████████████████████████| 10/10 [00:07<00:00,  1.27it/s]\n"
     ]
    },
    {
     "name": "stdout",
     "output_type": "stream",
     "text": [
      "epoch:11 val Loss: 0.0247\n"
     ]
    },
    {
     "name": "stderr",
     "output_type": "stream",
     "text": [
      "100%|███████████████████████████████████████████| 75/75 [01:03<00:00,  1.19it/s]\n"
     ]
    },
    {
     "name": "stdout",
     "output_type": "stream",
     "text": [
      "epoch:12 train Loss: 0.0233\n"
     ]
    },
    {
     "name": "stderr",
     "output_type": "stream",
     "text": [
      "100%|███████████████████████████████████████████| 10/10 [00:07<00:00,  1.28it/s]\n"
     ]
    },
    {
     "name": "stdout",
     "output_type": "stream",
     "text": [
      "epoch:12 val Loss: 0.0247\n"
     ]
    },
    {
     "name": "stderr",
     "output_type": "stream",
     "text": [
      "100%|███████████████████████████████████████████| 75/75 [01:03<00:00,  1.19it/s]\n"
     ]
    },
    {
     "name": "stdout",
     "output_type": "stream",
     "text": [
      "epoch:13 train Loss: 0.0230\n"
     ]
    },
    {
     "name": "stderr",
     "output_type": "stream",
     "text": [
      "100%|███████████████████████████████████████████| 10/10 [00:07<00:00,  1.28it/s]"
     ]
    },
    {
     "name": "stdout",
     "output_type": "stream",
     "text": [
      "epoch:13 val Loss: 0.0246\n"
     ]
    },
    {
     "name": "stderr",
     "output_type": "stream",
     "text": [
      "\n"
     ]
    }
   ],
   "source": [
    "# The first parameter is the model's parameter that need to train\n",
    "# The second parameter is the learning rate\n",
    "focal_optimizer = optim.Adam(model_ft.parameters(), lr=0.0005, weight_decay = 1e-3)\n",
    "# Learning Rate schedule\n",
    "# scheduler = StepLR(focal_optimizer, step_size=7, gamma = 0.1)\n",
    "# Binary Cross Entropy loss function\n",
    "focal_criterion = FocalLoss(alpha=.55, gamma=2).to(device)\n",
    "focal_model, focal_train_loss, focal_val_loss = train_model(model_ft, dataloaders_dict, focal_criterion, focal_optimizer, num_epoch=num_epoch,loss_name = \"focal\")#, scheduler=scheduler)"
   ]
  },
  {
   "cell_type": "markdown",
   "id": "7891828b",
   "metadata": {},
   "source": [
    "## Plot the Loss with Focal Loss"
   ]
  },
  {
   "cell_type": "code",
   "execution_count": 52,
   "id": "b13be75f",
   "metadata": {},
   "outputs": [
    {
     "data": {
      "image/png": "[encoded data removed]",
      "text/plain": [
       "<Figure size 432x288 with 1 Axes>"
      ]
     },
     "metadata": {
      "needs_background": "light"
     },
     "output_type": "display_data"
    }
   ],
   "source": [
    "draw_plot(focal_train_loss, focal_val_loss, num_epoch)"
   ]
  },
  {
   "cell_type": "markdown",
   "id": "ac9aafd0",
   "metadata": {},
   "source": [
    "## Evluate the Model with Focal Loss"
   ]
  },
  {
   "cell_type": "code",
   "execution_count": 53,
   "id": "6d55348f",
   "metadata": {},
   "outputs": [
    {
     "name": "stderr",
     "output_type": "stream",
     "text": [
      "100%|█████████████████████████████████████████| 301/301 [00:13<00:00, 22.30it/s]\n"
     ]
    },
    {
     "name": "stdout",
     "output_type": "stream",
     "text": [
      "[1.         0.67901235 0.89699571 0.90909091 0.5        0.5\n",
      " 0.64705882 0.48       0.88973384 1.         0.93061224 1.\n",
      " 0.88888889 0.61904762 0.85714286 0.89097744 0.52325581]\n",
      "[0.3        0.76923077 0.98584906 0.96618357 0.16666667 0.27027027\n",
      " 0.42307692 0.57142857 0.99574468 0.         0.99130435 0.76\n",
      " 0.36363636 0.56521739 0.6        0.97530864 0.48913043]\n",
      "[0.46153846 0.72131148 0.93932584 0.93676815 0.25       0.35087719\n",
      " 0.51162791 0.52173913 0.93975904 0.         0.96       0.86363636\n",
      " 0.51612903 0.59090909 0.70588235 0.93123772 0.50561798]\n",
      "precision_micro =  0.8414481897627965\n",
      "recall_micro =  0.8668810289389067\n",
      "f1_micro =  0.8539752929996832\n"
     ]
    }
   ],
   "source": [
    "precision, recall, f1, precision_micro, recall_micro, f1_micro = experiment_evaluate(focal_model)\n",
    "print(precision)\n",
    "print(recall)\n",
    "print(f1)\n",
    "\n",
    "print(\"precision_micro = \", precision_micro)\n",
    "print(\"recall_micro = \", recall_micro)\n",
    "print(\"f1_micro = \", f1_micro)"
   ]
  },
  {
   "cell_type": "markdown",
   "id": "20380780",
   "metadata": {},
   "source": [
    "## Save Model to Local"
   ]
  },
  {
   "cell_type": "code",
   "execution_count": 56,
   "id": "f175dc3f",
   "metadata": {},
   "outputs": [],
   "source": [
    "# Here, we save the model we trained before for future experiment, therefore, we do not need to retrain.\n",
    "torch.save(focal_model,\"/Users/huangcheng/Documents/DeepLearningProjectModels/focal.pth\")"
   ]
  },
  {
   "cell_type": "markdown",
   "id": "0c0da0f1",
   "metadata": {},
   "source": [
    "## ASL Loss Function Class"
   ]
  },
  {
   "cell_type": "code",
   "execution_count": 62,
   "id": "96061f49",
   "metadata": {},
   "outputs": [],
   "source": [
    "class AsymmetricLoss(nn.Module):\n",
    "    def __init__(self, gamma_neg=4, gamma_pos=1, clip=0.05, eps=1e-8, disable_torch_grad_focal_loss=True):\n",
    "        super(AsymmetricLoss, self).__init__()\n",
    "\n",
    "        self.gamma_neg = gamma_neg\n",
    "        self.gamma_pos = gamma_pos\n",
    "        self.clip = clip\n",
    "        self.disable_torch_grad_focal_loss = disable_torch_grad_focal_loss\n",
    "        self.eps = eps\n",
    "\n",
    "    def forward(self, x, y):\n",
    "        \"\"\"\"\n",
    "        Parameters\n",
    "        ----------\n",
    "        x: input logits\n",
    "        y: targets (multi-label binarized vector)\n",
    "        \"\"\"\n",
    "\n",
    "        # Calculating Probabilities\n",
    "        x_sigmoid = torch.sigmoid(x)\n",
    "        xs_pos = x_sigmoid\n",
    "        xs_neg = 1 - x_sigmoid\n",
    "\n",
    "        # Asymmetric Clipping\n",
    "        if self.clip is not None and self.clip > 0:\n",
    "            xs_neg = (xs_neg + self.clip).clamp(max=1)\n",
    "\n",
    "        # Basic CE calculation\n",
    "        los_pos = y * torch.log(xs_pos.clamp(min=self.eps))\n",
    "        los_neg = (1 - y) * torch.log(xs_neg.clamp(min=self.eps))\n",
    "        loss = los_pos + los_neg\n",
    "\n",
    "        # Asymmetric Focusing\n",
    "        if self.gamma_neg > 0 or self.gamma_pos > 0:\n",
    "            if self.disable_torch_grad_focal_loss:\n",
    "                torch.set_grad_enabled(False)\n",
    "            pt0 = xs_pos * y\n",
    "            pt1 = xs_neg * (1 - y)  # pt = p if t > 0 else 1-p\n",
    "            pt = pt0 + pt1\n",
    "            one_sided_gamma = self.gamma_pos * y + self.gamma_neg * (1 - y)\n",
    "            one_sided_w = torch.pow(1 - pt, one_sided_gamma)\n",
    "            if self.disable_torch_grad_focal_loss:\n",
    "                torch.set_grad_enabled(True)\n",
    "            loss *= one_sided_w\n",
    "\n",
    "        return -loss.sum()\n"
   ]
  },
  {
   "cell_type": "markdown",
   "id": "8f3edb37",
   "metadata": {},
   "source": [
    "## Here we train the model with Adam and ASL"
   ]
  },
  {
   "cell_type": "code",
   "execution_count": 76,
   "id": "7353874b",
   "metadata": {},
   "outputs": [
    {
     "name": "stderr",
     "output_type": "stream",
     "text": [
      "100%|███████████████████████████████████████████| 75/75 [01:03<00:00,  1.19it/s]\n"
     ]
    },
    {
     "name": "stdout",
     "output_type": "stream",
     "text": [
      "epoch:0 train Loss: 95.0096\n"
     ]
    },
    {
     "name": "stderr",
     "output_type": "stream",
     "text": [
      "100%|███████████████████████████████████████████| 10/10 [00:07<00:00,  1.28it/s]\n"
     ]
    },
    {
     "name": "stdout",
     "output_type": "stream",
     "text": [
      "epoch:0 val Loss: 70.0926\n"
     ]
    },
    {
     "name": "stderr",
     "output_type": "stream",
     "text": [
      "100%|███████████████████████████████████████████| 75/75 [01:04<00:00,  1.17it/s]\n"
     ]
    },
    {
     "name": "stdout",
     "output_type": "stream",
     "text": [
      "epoch:1 train Loss: 70.2046\n"
     ]
    },
    {
     "name": "stderr",
     "output_type": "stream",
     "text": [
      "100%|███████████████████████████████████████████| 10/10 [00:07<00:00,  1.29it/s]\n"
     ]
    },
    {
     "name": "stdout",
     "output_type": "stream",
     "text": [
      "epoch:1 val Loss: 62.3471\n"
     ]
    },
    {
     "name": "stderr",
     "output_type": "stream",
     "text": [
      "100%|███████████████████████████████████████████| 75/75 [01:02<00:00,  1.19it/s]\n"
     ]
    },
    {
     "name": "stdout",
     "output_type": "stream",
     "text": [
      "epoch:2 train Loss: 63.7226\n"
     ]
    },
    {
     "name": "stderr",
     "output_type": "stream",
     "text": [
      "100%|███████████████████████████████████████████| 10/10 [00:07<00:00,  1.29it/s]\n"
     ]
    },
    {
     "name": "stdout",
     "output_type": "stream",
     "text": [
      "epoch:2 val Loss: 58.5952\n"
     ]
    },
    {
     "name": "stderr",
     "output_type": "stream",
     "text": [
      "100%|███████████████████████████████████████████| 75/75 [01:02<00:00,  1.19it/s]\n"
     ]
    },
    {
     "name": "stdout",
     "output_type": "stream",
     "text": [
      "epoch:3 train Loss: 59.2673\n"
     ]
    },
    {
     "name": "stderr",
     "output_type": "stream",
     "text": [
      "100%|███████████████████████████████████████████| 10/10 [00:07<00:00,  1.30it/s]\n"
     ]
    },
    {
     "name": "stdout",
     "output_type": "stream",
     "text": [
      "epoch:3 val Loss: 55.1128\n"
     ]
    },
    {
     "name": "stderr",
     "output_type": "stream",
     "text": [
      "100%|███████████████████████████████████████████| 75/75 [01:03<00:00,  1.18it/s]\n"
     ]
    },
    {
     "name": "stdout",
     "output_type": "stream",
     "text": [
      "epoch:4 train Loss: 56.1378\n"
     ]
    },
    {
     "name": "stderr",
     "output_type": "stream",
     "text": [
      "100%|███████████████████████████████████████████| 10/10 [00:07<00:00,  1.28it/s]\n"
     ]
    },
    {
     "name": "stdout",
     "output_type": "stream",
     "text": [
      "epoch:4 val Loss: 53.3789\n"
     ]
    },
    {
     "name": "stderr",
     "output_type": "stream",
     "text": [
      "100%|███████████████████████████████████████████| 75/75 [01:05<00:00,  1.15it/s]\n"
     ]
    },
    {
     "name": "stdout",
     "output_type": "stream",
     "text": [
      "epoch:5 train Loss: 54.4272\n"
     ]
    },
    {
     "name": "stderr",
     "output_type": "stream",
     "text": [
      "100%|███████████████████████████████████████████| 10/10 [00:07<00:00,  1.29it/s]\n"
     ]
    },
    {
     "name": "stdout",
     "output_type": "stream",
     "text": [
      "epoch:5 val Loss: 51.9007\n"
     ]
    },
    {
     "name": "stderr",
     "output_type": "stream",
     "text": [
      "100%|███████████████████████████████████████████| 75/75 [01:03<00:00,  1.18it/s]\n"
     ]
    },
    {
     "name": "stdout",
     "output_type": "stream",
     "text": [
      "epoch:6 train Loss: 53.3085\n"
     ]
    },
    {
     "name": "stderr",
     "output_type": "stream",
     "text": [
      "100%|███████████████████████████████████████████| 10/10 [00:07<00:00,  1.30it/s]\n"
     ]
    },
    {
     "name": "stdout",
     "output_type": "stream",
     "text": [
      "epoch:6 val Loss: 51.2739\n"
     ]
    },
    {
     "name": "stderr",
     "output_type": "stream",
     "text": [
      "100%|███████████████████████████████████████████| 75/75 [01:03<00:00,  1.19it/s]\n"
     ]
    },
    {
     "name": "stdout",
     "output_type": "stream",
     "text": [
      "epoch:7 train Loss: 51.8152\n"
     ]
    },
    {
     "name": "stderr",
     "output_type": "stream",
     "text": [
      "100%|███████████████████████████████████████████| 10/10 [00:07<00:00,  1.29it/s]\n"
     ]
    },
    {
     "name": "stdout",
     "output_type": "stream",
     "text": [
      "epoch:7 val Loss: 50.1175\n"
     ]
    },
    {
     "name": "stderr",
     "output_type": "stream",
     "text": [
      "100%|███████████████████████████████████████████| 75/75 [01:02<00:00,  1.19it/s]\n"
     ]
    },
    {
     "name": "stdout",
     "output_type": "stream",
     "text": [
      "epoch:8 train Loss: 50.8282\n"
     ]
    },
    {
     "name": "stderr",
     "output_type": "stream",
     "text": [
      "100%|███████████████████████████████████████████| 10/10 [00:07<00:00,  1.29it/s]\n"
     ]
    },
    {
     "name": "stdout",
     "output_type": "stream",
     "text": [
      "epoch:8 val Loss: 49.9237\n"
     ]
    },
    {
     "name": "stderr",
     "output_type": "stream",
     "text": [
      "100%|███████████████████████████████████████████| 75/75 [01:02<00:00,  1.19it/s]\n"
     ]
    },
    {
     "name": "stdout",
     "output_type": "stream",
     "text": [
      "epoch:9 train Loss: 49.9702\n"
     ]
    },
    {
     "name": "stderr",
     "output_type": "stream",
     "text": [
      "100%|███████████████████████████████████████████| 10/10 [00:07<00:00,  1.28it/s]\n"
     ]
    },
    {
     "name": "stdout",
     "output_type": "stream",
     "text": [
      "epoch:9 val Loss: 49.0193\n"
     ]
    },
    {
     "name": "stderr",
     "output_type": "stream",
     "text": [
      "100%|███████████████████████████████████████████| 75/75 [01:02<00:00,  1.19it/s]\n"
     ]
    },
    {
     "name": "stdout",
     "output_type": "stream",
     "text": [
      "epoch:10 train Loss: 48.9855\n"
     ]
    },
    {
     "name": "stderr",
     "output_type": "stream",
     "text": [
      "100%|███████████████████████████████████████████| 10/10 [00:07<00:00,  1.30it/s]\n"
     ]
    },
    {
     "name": "stdout",
     "output_type": "stream",
     "text": [
      "epoch:10 val Loss: 48.1348\n"
     ]
    },
    {
     "name": "stderr",
     "output_type": "stream",
     "text": [
      "100%|███████████████████████████████████████████| 75/75 [01:03<00:00,  1.19it/s]\n"
     ]
    },
    {
     "name": "stdout",
     "output_type": "stream",
     "text": [
      "epoch:11 train Loss: 48.6653\n"
     ]
    },
    {
     "name": "stderr",
     "output_type": "stream",
     "text": [
      "100%|███████████████████████████████████████████| 10/10 [00:07<00:00,  1.27it/s]\n"
     ]
    },
    {
     "name": "stdout",
     "output_type": "stream",
     "text": [
      "epoch:11 val Loss: 48.0392\n"
     ]
    },
    {
     "name": "stderr",
     "output_type": "stream",
     "text": [
      "100%|███████████████████████████████████████████| 75/75 [01:03<00:00,  1.19it/s]\n"
     ]
    },
    {
     "name": "stdout",
     "output_type": "stream",
     "text": [
      "epoch:12 train Loss: 47.6045\n"
     ]
    },
    {
     "name": "stderr",
     "output_type": "stream",
     "text": [
      "100%|███████████████████████████████████████████| 10/10 [00:07<00:00,  1.28it/s]\n"
     ]
    },
    {
     "name": "stdout",
     "output_type": "stream",
     "text": [
      "epoch:12 val Loss: 47.5216\n"
     ]
    },
    {
     "name": "stderr",
     "output_type": "stream",
     "text": [
      "100%|███████████████████████████████████████████| 75/75 [01:03<00:00,  1.19it/s]\n"
     ]
    },
    {
     "name": "stdout",
     "output_type": "stream",
     "text": [
      "epoch:13 train Loss: 47.0474\n"
     ]
    },
    {
     "name": "stderr",
     "output_type": "stream",
     "text": [
      "100%|███████████████████████████████████████████| 10/10 [00:07<00:00,  1.29it/s]"
     ]
    },
    {
     "name": "stdout",
     "output_type": "stream",
     "text": [
      "epoch:13 val Loss: 47.3573\n"
     ]
    },
    {
     "name": "stderr",
     "output_type": "stream",
     "text": [
      "\n"
     ]
    }
   ],
   "source": [
    "# The first parameter is the model's parameter that need to train\n",
    "# The second parameter is the learning rate\n",
    "asl_optimizer = optim.Adam(model_ft.parameters(), lr=0.0001)\n",
    "# Binary Cross Entropy loss function\n",
    "asl_criterion = AsymmetricLoss(gamma_neg=1.3, gamma_pos=1, clip=0.0005).to(device)\n",
    "asl_model, asl_train_loss, asl_val_loss = train_model(model_ft, dataloaders_dict, asl_criterion, asl_optimizer, num_epoch=num_epoch, loss_name='asl')"
   ]
  },
  {
   "cell_type": "markdown",
   "id": "eb232a37",
   "metadata": {},
   "source": [
    "## Save Model"
   ]
  },
  {
   "cell_type": "code",
   "execution_count": 79,
   "id": "8f0d86d6",
   "metadata": {
    "scrolled": true
   },
   "outputs": [
    {
     "data": {
      "image/png": "[encoded data removed]",
      "text/plain": [
       "<Figure size 432x288 with 1 Axes>"
      ]
     },
     "metadata": {
      "needs_background": "light"
     },
     "output_type": "display_data"
    }
   ],
   "source": [
    "draw_plot(asl_train_loss, asl_val_loss, num_epoch)"
   ]
  },
  {
   "cell_type": "markdown",
   "id": "7252666d",
   "metadata": {},
   "source": [
    "## Evaluate the Model with ASL"
   ]
  },
  {
   "cell_type": "code",
   "execution_count": 82,
   "id": "fc867f0d",
   "metadata": {},
   "outputs": [
    {
     "name": "stderr",
     "output_type": "stream",
     "text": [
      "100%|█████████████████████████████████████████| 301/301 [00:13<00:00, 21.75it/s]\n"
     ]
    },
    {
     "name": "stdout",
     "output_type": "stream",
     "text": [
      "[1.         0.60606061 0.81081081 0.85897436 1.         1.\n",
      " 1.         1.         0.83333333 1.         0.84444444 1.\n",
      " 1.         0.66666667 1.         0.8466899  0.5       ]\n",
      "[0.         0.6993007  0.99056604 0.97101449 0.         0.05405405\n",
      " 0.03846154 0.0952381  1.         0.         0.99130435 0.04\n",
      " 0.         0.08695652 0.2        1.         0.30434783]\n",
      "[0.         0.64935065 0.89171975 0.91156463 0.         0.1025641\n",
      " 0.07407407 0.17391304 0.90909091 0.         0.912      0.07692308\n",
      " 0.         0.15384615 0.33333333 0.91698113 0.37837838]\n",
      "precision_micro =  0.8024296675191815\n",
      "recall_micro =  0.8070739549839229\n",
      "f1_micro =  0.8047451106123759\n"
     ]
    }
   ],
   "source": [
    "precision, recall, f1, precision_micro, recall_micro, f1_micro  = experiment_evaluate(asl_model)\n",
    "print(precision)\n",
    "print(recall)\n",
    "print(f1)\n",
    "\n",
    "print(\"precision_micro = \", precision_micro)\n",
    "print(\"recall_micro = \", recall_micro)\n",
    "print(\"f1_micro = \", f1_micro)"
   ]
  }
 ],
 "metadata": {
  "kernelspec": {
   "display_name": "pytorchlearn",
   "language": "python",
   "name": "pytorchlearn"
  },
  "language_info": {
   "codemirror_mode": {
    "name": "ipython",
    "version": 3
   },
   "file_extension": ".py",
   "mimetype": "text/x-python",
   "name": "python",
   "nbconvert_exporter": "python",
   "pygments_lexer": "ipython3",
   "version": "3.8.13"
  }
 },
 "nbformat": 4,
 "nbformat_minor": 5
}
